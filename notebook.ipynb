{
 "cells": [
  {
   "cell_type": "code",
   "execution_count": 1,
   "metadata": {},
   "outputs": [],
   "source": [
    "import pandas as pd\n",
    "import numpy as np\n",
    "import matplotlib\n",
    "import matplotlib.pyplot as plt\n",
    "%matplotlib inline\n",
    "\n",
    "from ada_const import *\n",
    "from ada_context import *\n",
    "from ada_imports import *"
   ]
  },
  {
   "cell_type": "markdown",
   "metadata": {},
   "source": [
    "# Data Fetching\n",
    "\n",
    "First we load mentions and events datasets into two DataFrames using `spark.read.csv()` using a schema built according to the GDELT 2.1 documentation."
   ]
  },
  {
   "cell_type": "code",
   "execution_count": 2,
   "metadata": {},
   "outputs": [],
   "source": [
    "from ada_dataIO import *\n",
    "\n",
    "events = loadGDELT(EVENTS)\n",
    "mentions = loadGDELT(MENTIONS)"
   ]
  },
  {
   "cell_type": "markdown",
   "metadata": {},
   "source": [
    "# Data Selection and Cleaning\n",
    "\n",
    "The `cleanEvents()` and `cleanMentions()` functions select the columns we will be using and transform the `ActionGeo_CountryCode` values from FISP-10 codes to iso codes.\n",
    "\n",
    "We also register the two DataFrames as tables in the SQL context.\n",
    "\n",
    "The values of `AvgTone`, `QuadClass` and `GoldsteinScale` columns are already in correct range (-100 to 100 for `AvgTone`, 1 to 4 for `QuadScale` and -10 to 10 for `GoldsteinScale`) thus we don't need to do any further cleaning."
   ]
  },
  {
   "cell_type": "code",
   "execution_count": 3,
   "metadata": {},
   "outputs": [],
   "source": [
    "from ada_dataCleaner import *\n",
    "\n",
    "\n",
    "events = cleanEvents(events)\n",
    "mentions = cleanMentions(mentions)\n",
    "\n",
    "events.registerTempTable('events')\n",
    "mentions.registerTempTable('mentions')\n"
   ]
  },
  {
   "cell_type": "code",
   "execution_count": 4,
   "metadata": {},
   "outputs": [
    {
     "name": "stdout",
     "output_type": "stream",
     "text": [
      "root\n",
      " |-- GLOBALEVENTID: long (nullable = true)\n",
      " |-- EventTimeDate: timestamp (nullable = true)\n",
      " |-- MentionTimeDate: timestamp (nullable = true)\n",
      " |-- MentionType: long (nullable = true)\n",
      " |-- Confidence: long (nullable = true)\n",
      " |-- MentionSourceName: string (nullable = true)\n",
      "\n"
     ]
    }
   ],
   "source": [
    "mentions.printSchema()"
   ]
  },
  {
   "cell_type": "code",
   "execution_count": 5,
   "metadata": {},
   "outputs": [
    {
     "name": "stdout",
     "output_type": "stream",
     "text": [
      "root\n",
      " |-- GLOBALEVENTID: long (nullable = true)\n",
      " |-- date: date (nullable = true)\n",
      " |-- Day_Date: integer (nullable = true)\n",
      " |-- Month_Date: integer (nullable = true)\n",
      " |-- Year_Date: string (nullable = true)\n",
      " |-- MonthYear_Date: string (nullable = true)\n",
      " |-- FractionDate: float (nullable = true)\n",
      " |-- QuadClass: long (nullable = true)\n",
      " |-- GoldsteinScale: float (nullable = true)\n",
      " |-- AvgTone: float (nullable = true)\n",
      " |-- ActionGeo_CountryCode: string (nullable = true)\n",
      "\n"
     ]
    }
   ],
   "source": [
    "events.printSchema()"
   ]
  },
  {
   "cell_type": "markdown",
   "metadata": {},
   "source": [
    "# Data Exploration\n",
    "\n",
    "For exploration of the database we will be using a sample of the data provided on the cluster. These csv files were represent roughly 10% of each database, the chosen samples were spread over time in order to have a more reliable estimation of distribution of the data across time."
   ]
  },
  {
   "cell_type": "code",
   "execution_count": 6,
   "metadata": {},
   "outputs": [
    {
     "name": "stdout",
     "output_type": "stream",
     "text": [
      "4186 events are reported in our events sample dataset\n",
      "12165 mentions are reported in our mentions sample dataset\n"
     ]
    }
   ],
   "source": [
    "print('{} events are reported in our events sample dataset'.format(events.count()))\n",
    "print('{} mentions are reported in our mentions sample dataset'.format(mentions.count()))"
   ]
  },
  {
   "cell_type": "markdown",
   "metadata": {},
   "source": [
    "## Event database\n",
    "# Origin of our data"
   ]
  },
  {
   "cell_type": "markdown",
   "metadata": {},
   "source": [
    "The news reports we will be using accross this project are gathered from different news source types : \n",
    "\n",
    "- Web sources (1)\n",
    "- Broadcasts, prints, other offline sources (2)\n",
    "- CORE archives (3)\n",
    "- DTIC archives (4)\n",
    "- JSTOR archives (5)\n",
    "- NonTextual sources (6)\n",
    "\n",
    "Let's explore the origin of the news reports we will be analysing :\n"
   ]
  },
  {
   "cell_type": "code",
   "execution_count": 7,
   "metadata": {},
   "outputs": [
    {
     "data": {
      "text/plain": [
       "<matplotlib.axes._subplots.AxesSubplot at 0x24174b4d9b0>"
      ]
     },
     "execution_count": 7,
     "metadata": {},
     "output_type": "execute_result"
    },
    {
     "data": {
      "image/png": "[encoded data removed]",
      "text/plain": [
       "<Figure size 360x360 with 1 Axes>"
      ]
     },
     "metadata": {},
     "output_type": "display_data"
    }
   ],
   "source": [
    "labels_val = ['Web Sources','Offline Sources','CORE Archives','DTIC Archives','JSTOR Archives','Non Textual Sources']\n",
    "\n",
    "def get_labels(labels):   \n",
    "    return [x for i,x in enumerate(labels_val) if (i+1) in labels]\n",
    "    \n",
    "def get_sources(df_mentions):\n",
    "    \n",
    "    sources = df_mentions.groupby('MentionType').agg(count('GLOBALEVENTID').alias('Number Mentions')).orderBy('MentionType')\n",
    "    \n",
    "    mentions_list = list(sources.select('Number Mentions').toPandas()['Number Mentions'])\n",
    "    source_list = list(sources.select('MentionType').toPandas()['MentionType'])\n",
    "\n",
    "    return pd.DataFrame({'Number Mentions': mentions_list},index= source_list)\n",
    "\n",
    "sources = get_sources(mentions)\n",
    "sources.plot.pie(y='Number Mentions', autopct='%.2f',figsize=(5, 5),labels=get_labels(list(sources.index)))\n"
   ]
  },
  {
   "cell_type": "markdown",
   "metadata": {},
   "source": [
    "As seen above almost all sources are websources."
   ]
  },
  {
   "cell_type": "markdown",
   "metadata": {},
   "source": [
    "# Confidence in our data\n",
    "\n",
    "The mentions dataframe provide a estimation of the confidence at which a event was extracted from a news report. If a news report is focused on a event, the confidence ratio at which this event is detected, is higher than in news report where the event is only briefly mentionned.\n",
    "\n",
    "As a first insight in our data, let's see the distribution of this ratio accross our mention dataframe"
   ]
  },
  {
   "cell_type": "code",
   "execution_count": 8,
   "metadata": {},
   "outputs": [],
   "source": [
    "# Getting the percentage of mentions for each confidence value\n",
    "def get_confidence(df_mentions):\n",
    "    \n",
    "    total_mentions = df_mentions.count()\n",
    "    udf = UserDefinedFunction(lambda x: x/total_mentions, DoubleType())\n",
    "\n",
    "    confidence = df_mentions.groupby('Confidence').agg(count('GLOBALEVENTID').alias('Number Mentions')).orderBy('Confidence')\n",
    "    confidence = confidence.select([udf(column).alias('Percentage of Mentions') if column == 'Number Mentions' else column for column in confidence.columns])\n",
    "    \n",
    "    return confidence"
   ]
  },
  {
   "cell_type": "code",
   "execution_count": 9,
   "metadata": {},
   "outputs": [],
   "source": [
    "confidence = get_confidence(mentions).toPandas()"
   ]
  },
  {
   "cell_type": "code",
   "execution_count": 10,
   "metadata": {},
   "outputs": [
    {
     "data": {
      "text/plain": [
       "<matplotlib.axes._subplots.AxesSubplot at 0x24174f3bac8>"
      ]
     },
     "execution_count": 10,
     "metadata": {},
     "output_type": "execute_result"
    },
    {
     "data": {
      "image/png": "[encoded data removed]",
      "text/plain": [
       "<Figure size 720x720 with 1 Axes>"
      ]
     },
     "metadata": {},
     "output_type": "display_data"
    }
   ],
   "source": [
    "confidence.plot.bar(x='Confidence', y='Percentage of Mentions', figsize=(10, 10), colormap='Paired',title = 'Mentions Confidence distribution')"
   ]
  },
  {
   "cell_type": "markdown",
   "metadata": {},
   "source": [
    "As seen above, a consequent part of mentions reported in the mentions csv files have a low confidence ratio. \n",
    "We decided to investigate if this repartition was different depending on mention source type."
   ]
  },
  {
   "cell_type": "code",
   "execution_count": 11,
   "metadata": {},
   "outputs": [
    {
     "data": {
      "image/png": "[encoded data removed]",
      "text/plain": [
       "<Figure size 720x720 with 1 Axes>"
      ]
     },
     "metadata": {},
     "output_type": "display_data"
    },
    {
     "data": {
      "image/png": "[encoded data removed]",
      "text/plain": [
       "<Figure size 720x720 with 1 Axes>"
      ]
     },
     "metadata": {},
     "output_type": "display_data"
    }
   ],
   "source": [
    "for index,label in enumerate(labels_val):\n",
    "\n",
    "    sources_index = mentions['MentionType'] == str(index+1)\n",
    "    sources = mentions[['GLOBALEVENTID','MentionType', 'Confidence']][sources_index]\n",
    "    \n",
    "    if not sources.toPandas().empty :\n",
    "        confidence = get_confidence(sources).toPandas()\n",
    "        confidence.plot.bar(x='Confidence', y='Percentage of Mentions', figsize=(10, 10), colormap='Paired',title = 'Mentions Confidence distribution for '+label)"
   ]
  },
  {
   "cell_type": "markdown",
   "metadata": {},
   "source": [
    "The previous plots show that roughly 35 % of mentions have a confidence level of 20% or less. This lack of confidence is slightly stronger for offline sources that only represet less than 1% of mentions sources. \n",
    "To get more reliable results through out our projets, the desicion was made to consider only news mentions with a confidence level of at least 20%."
   ]
  },
  {
   "cell_type": "code",
   "execution_count": 12,
   "metadata": {},
   "outputs": [],
   "source": [
    "# TO BE RUN ONCE VALUES ARE NUMS\n",
    "def get_goodConfidence(df_mentions):\n",
    "   \n",
    "    index = df_mentions['Confidence'] > 20\n",
    "\n",
    "    return df_mentions[df_mentions.schema.names][index]\n",
    "\n",
    "#new_mentions = get_goodConfidence(mentions)\n",
    "#new_mentions.show()"
   ]
  },
  {
   "cell_type": "code",
   "execution_count": 13,
   "metadata": {},
   "outputs": [
    {
     "name": "stdout",
     "output_type": "stream",
     "text": [
      "12165 mentions are reported in our mentions sample dataset\n"
     ]
    }
   ],
   "source": [
    "print('{} mentions are reported in our mentions sample dataset'.format(mentions.count()))"
   ]
  },
  {
   "cell_type": "markdown",
   "metadata": {},
   "source": [
    "# Sources"
   ]
  },
  {
   "cell_type": "markdown",
   "metadata": {},
   "source": [
    "We would like to have an overview of the different medias which report the news. We thus look at the medias which have more publications over the 2 years. "
   ]
  },
  {
   "cell_type": "code",
   "execution_count": 14,
   "metadata": {},
   "outputs": [
    {
     "name": "stdout",
     "output_type": "stream",
     "text": [
      "+--------------------+-----+\n",
      "|   MentionSourceName|count|\n",
      "+--------------------+-----+\n",
      "|           yahoo.com|  256|\n",
      "|      thenews.com.pk|  251|\n",
      "|         rappler.com|  166|\n",
      "|            wboc.com|  121|\n",
      "|      independent.ie|  114|\n",
      "|         reuters.com|  113|\n",
      "|   foreignpolicy.com|  107|\n",
      "|    osundefender.org|  105|\n",
      "|       firstpost.com|  103|\n",
      "|  couriermail.com.au|  100|\n",
      "| thefrontierpost.com|  100|\n",
      "|informationcleari...|   97|\n",
      "|voiceofalexandria...|   85|\n",
      "|   thealpenanews.com|   78|\n",
      "|batemansbaypost.c...|   77|\n",
      "|         stuff.co.nz|   76|\n",
      "|          smh.com.au|   76|\n",
      "|kiamaindependent....|   75|\n",
      "|             wnd.com|   73|\n",
      "|rapidcityjournal.com|   72|\n",
      "|     thisdaylive.com|   70|\n",
      "|     mailtribune.com|   69|\n",
      "|victorharbortimes...|   69|\n",
      "| theridgenews.com.au|   67|\n",
      "|     asianewsnet.net|   67|\n",
      "|     perthnow.com.au|   67|\n",
      "|newyorkstatesman.com|   67|\n",
      "|maitlandmercury.c...|   66|\n",
      "|southcoastregiste...|   65|\n",
      "|blayneychronicle....|   64|\n",
      "+--------------------+-----+\n",
      "only showing top 30 rows\n",
      "\n"
     ]
    }
   ],
   "source": [
    "sources = mentions.select('MentionSourceName').groupBy('MentionSourceName').count().orderBy(desc('count'))\n",
    "sources.show(30)"
   ]
  },
  {
   "cell_type": "markdown",
   "metadata": {},
   "source": [
    "We see that among the most prevalent medias are many american news sources like the broadcast and internet radio iheart.com (USA, Canada, New Zealand, Australia), the search engine yahoo.com, the newspaper/radio/television news agency ap.org, the american broadcasting company abc7 and other american news relating medias (news-sentinel, wnd, news12, tucson, miamiherald, sfgate, missoulian, washingtonpost, huffingtonpost).\n",
    "\n",
    "The most prevalent medias also count the british international news agency reuters.com and newspaper DailyMail.co.uk, the Palestine news agency Wafa, the australian Courier Mail, the indian indiatimes, the chinese news agency xinhuanet."
   ]
  },
  {
   "cell_type": "markdown",
   "metadata": {},
   "source": [
    "# Event Time\n",
    "We would like to display the evolution of human activity and media coverage throughout the months, to see how the data is distributed and to visualize any particular behavior with respect to time."
   ]
  },
  {
   "cell_type": "code",
   "execution_count": 15,
   "metadata": {},
   "outputs": [],
   "source": [
    "# When was our data collected ? \n",
    "def get_period(df_events):\n",
    "    \n",
    "    start = df_events.select('Day_DATE').orderBy('Day_DATE').head()\n",
    "    stop = df_events.select('Day_DATE').orderBy(desc('Day_DATE')).head()\n",
    "    \n",
    "    return start[0], stop[0]"
   ]
  },
  {
   "cell_type": "code",
   "execution_count": 16,
   "metadata": {},
   "outputs": [
    {
     "name": "stdout",
     "output_type": "stream",
     "text": [
      "Data collection starts 12 and stops 20\n"
     ]
    }
   ],
   "source": [
    "# Problem\n",
    "start,stop = get_period(events)\n",
    "print('Data collection starts {} and stops {}'.format(start,stop))"
   ]
  },
  {
   "cell_type": "markdown",
   "metadata": {},
   "source": [
    "### Human activity worldwide throughout the months\n",
    "We want to represent the distribution of human activity throughout the months for a country."
   ]
  },
  {
   "cell_type": "code",
   "execution_count": 17,
   "metadata": {},
   "outputs": [],
   "source": [
    "# WORLDWIDE\n",
    "def get_events_worldwide(events_df):\n",
    "    \n",
    "    events_worldwide =  events_df.groupBy('MonthYear_Date').count().orderBy('MonthYear_Date')\n",
    "    \n",
    "    udf = UserDefinedFunction(lambda x: datetime.strptime(x,'%Y%m').strftime('%m-%Y'))\n",
    "    return events_worldwide.select([udf(column).alias('Month_Year') if column == 'MonthYear_Date' else column for column in events_worldwide.columns])\n",
    "   "
   ]
  },
  {
   "cell_type": "code",
   "execution_count": 18,
   "metadata": {},
   "outputs": [],
   "source": [
    "events_worldwide_time = get_events_worldwide(events)"
   ]
  },
  {
   "cell_type": "code",
   "execution_count": 20,
   "metadata": {},
   "outputs": [
    {
     "data": {
      "text/html": [
       "<div>\n",
       "<style scoped>\n",
       "    .dataframe tbody tr th:only-of-type {\n",
       "        vertical-align: middle;\n",
       "    }\n",
       "\n",
       "    .dataframe tbody tr th {\n",
       "        vertical-align: top;\n",
       "    }\n",
       "\n",
       "    .dataframe thead th {\n",
       "        text-align: right;\n",
       "    }\n",
       "</style>\n",
       "<table border=\"1\" class=\"dataframe\">\n",
       "  <thead>\n",
       "    <tr style=\"text-align: right;\">\n",
       "      <th></th>\n",
       "      <th>Month_Year</th>\n",
       "      <th>count</th>\n",
       "    </tr>\n",
       "  </thead>\n",
       "  <tbody>\n",
       "    <tr>\n",
       "      <th>0</th>\n",
       "      <td>02-2014</td>\n",
       "      <td>59</td>\n",
       "    </tr>\n",
       "    <tr>\n",
       "      <th>1</th>\n",
       "      <td>01-2015</td>\n",
       "      <td>26</td>\n",
       "    </tr>\n",
       "    <tr>\n",
       "      <th>2</th>\n",
       "      <td>02-2015</td>\n",
       "      <td>4101</td>\n",
       "    </tr>\n",
       "  </tbody>\n",
       "</table>\n",
       "</div>"
      ],
      "text/plain": [
       "  Month_Year  count\n",
       "0    02-2014     59\n",
       "1    01-2015     26\n",
       "2    02-2015   4101"
      ]
     },
     "execution_count": 20,
     "metadata": {},
     "output_type": "execute_result"
    },
    {
     "data": {
      "image/png": "[encoded data removed]",
      "text/plain": [
       "<Figure size 1440x360 with 1 Axes>"
      ]
     },
     "metadata": {},
     "output_type": "display_data"
    }
   ],
   "source": [
    "\n",
    "events_worldwide_time = events_worldwide_time.toPandas()\n",
    "fig = plt.subplots(figsize=(20,5))\n",
    "plt.plot(events_worldwide_time['Month_Year'], events_worldwide_time['count'],marker='o')\n",
    "plt.xlabel('Time [months]')\n",
    "plt.ylabel('Number of events worldwide')\n",
    "plt.xticks(rotation=45)\n",
    "plt.title('Number of events worldwide during 2 years')\n",
    "\n",
    "events_worldwide_time.head()"
   ]
  },
  {
   "cell_type": "markdown",
   "metadata": {},
   "source": [
    "The database contains events which are located prior in time to the beginning of the recording of mentions in the database, in February 2015. This in fact is due to the fact that mentions reference to events which just happened but also to events which happened in the past, and which will thus be registered in the database. However, since most of the events are referenced in the news right after they happened, these events will have less mentions than the ones which happened after the beginning of the recording. We thus choose to remove the mentions to events which happened prior to the beginning of the recording, in order to have an accurate idea of the total number of mentions per event.\n",
    "\n",
    "The last events recorded are in november 2017, which is consistent with the end time of the database we have access to.  "
   ]
  },
  {
   "cell_type": "markdown",
   "metadata": {},
   "source": [
    "### Media coverage worldwide throughout the months\n",
    "We want to represent the distribution of the worldwide media coverage throughout the months. "
   ]
  },
  {
   "cell_type": "code",
   "execution_count": 21,
   "metadata": {},
   "outputs": [],
   "source": [
    "# WORLDWIDE\n",
    "udf_mention1 = UserDefinedFunction(lambda x: x.strftime('%Y%m'))\n",
    "udf_mention2 = UserDefinedFunction(lambda x: datetime.strptime(x,'%Y%m').strftime('%m-%Y'))\n",
    "\n",
    "def get_media_coverage_worldwide(mentions_df) :\n",
    "    \n",
    "    mentions_Year_Month = mentions_df.select([udf_mention1(column).alias('Year_Month_Mention') if column == 'MentionTimeDate' else column for column in mentions_df.columns])\n",
    "    mentions_year_month = mentions_Year_Month.groupBy('Year_Month_Mention').count().orderBy('Year_Month_Mention') \n",
    "    mentions_month_year = mentions_year_month.select([udf_mention2(column).alias('Month_Year_Mention') if column == 'Year_Month_Mention' else column for column in mentions_year_month.columns])\n",
    "    \n",
    "    return mentions_month_year\n"
   ]
  },
  {
   "cell_type": "code",
   "execution_count": 22,
   "metadata": {},
   "outputs": [],
   "source": [
    "mentions_worldwide_time = get_media_coverage_worldwide(mentions)"
   ]
  },
  {
   "cell_type": "code",
   "execution_count": 23,
   "metadata": {},
   "outputs": [
    {
     "data": {
      "text/plain": [
       "Text(0.5,1,'Number of mentions worldwide during 2 years')"
      ]
     },
     "execution_count": 23,
     "metadata": {},
     "output_type": "execute_result"
    },
    {
     "data": {
      "image/png": "[encoded data removed]",
      "text/plain": [
       "<Figure size 1440x360 with 1 Axes>"
      ]
     },
     "metadata": {},
     "output_type": "display_data"
    }
   ],
   "source": [
    "mentions_worldwide_time = mentions_worldwide_time.toPandas()\n",
    "fig = plt.subplots(figsize=(20,5))\n",
    "plt.plot(mentions_worldwide_time['Month_Year_Mention'], mentions_worldwide_time['count'],marker='o')\n",
    "plt.xlabel('Time [months]')\n",
    "plt.ylabel('Number of mentions worldwide')\n",
    "plt.xticks(rotation=45)\n",
    "plt.title('Number of mentions worldwide during 2 years')\n"
   ]
  },
  {
   "cell_type": "markdown",
   "metadata": {},
   "source": [
    "The first mentions were in February 2015 and the last mentions were in November 2017, which is consistent with the time range of recording that we have access to, from February 18th 2015 at 11pm to November 23th 2017 at 8am. \n",
    "\n",
    "### Evolution of mentions for an event througout the months\n",
    "Now that we have had a rough overview of how events and mentions are distributed througout time, we would like to see how the mentions for a specific event are distributed througout time. We choose to select events which are mentioned a lot and which can give an actual idea of what happens across time, unlike small events which are only mentioned right after they happened."
   ]
  },
  {
   "cell_type": "code",
   "execution_count": 24,
   "metadata": {},
   "outputs": [
    {
     "name": "stdout",
     "output_type": "stream",
     "text": [
      "+-------------+-----+\n",
      "|GLOBALEVENTID|count|\n",
      "+-------------+-----+\n",
      "|    410469317|   46|\n",
      "|    410469318|   46|\n",
      "|    410425589|   35|\n",
      "|    410432577|   28|\n",
      "|    410431783|   28|\n",
      "|    410474732|   26|\n",
      "|    410476226|   26|\n",
      "|    410425025|   24|\n",
      "|    410481549|   24|\n",
      "|    410479759|   24|\n",
      "|    410481550|   24|\n",
      "|    410479592|   24|\n",
      "|    410424364|   24|\n",
      "|    410480841|   24|\n",
      "|    410479836|   24|\n",
      "|    410480613|   24|\n",
      "|    410480845|   24|\n",
      "|    410479823|   24|\n",
      "|    410479860|   24|\n",
      "|    410479835|   24|\n",
      "+-------------+-----+\n",
      "only showing top 20 rows\n",
      "\n"
     ]
    }
   ],
   "source": [
    "# get the 50 events which are the most mentioned during the 2 years\n",
    "largest_events = mentions.groupBy('GLOBALEVENTID').count().orderBy(desc('count')).limit(50)\n",
    "largest_events.show()"
   ]
  },
  {
   "cell_type": "code",
   "execution_count": 25,
   "metadata": {},
   "outputs": [
    {
     "name": "stdout",
     "output_type": "stream",
     "text": [
      "+------------------+-------------+-----+\n",
      "|Month_Year_Mention|GLOBALEVENTID|count|\n",
      "+------------------+-------------+-----+\n",
      "|           02-2015|    410424364|   24|\n",
      "|           02-2015|    410426624|   22|\n",
      "|           02-2015|    410479826|   24|\n",
      "|           02-2015|    410452709|   18|\n",
      "|           02-2015|    410468532|   23|\n",
      "|           02-2015|    410479860|   24|\n",
      "|           02-2015|    410426747|   18|\n",
      "|           02-2015|    410474682|   20|\n",
      "|           02-2015|    410451559|   18|\n",
      "|           02-2015|    410425025|   24|\n",
      "+------------------+-------------+-----+\n",
      "only showing top 10 rows\n",
      "\n"
     ]
    }
   ],
   "source": [
    "udf_mention1 = UserDefinedFunction(lambda x: x.strftime('%Y%m'))\n",
    "udf_mention2 = UserDefinedFunction(lambda x: datetime.strptime(x,'%Y%m').strftime('%m-%Y'))\n",
    "\n",
    "# finds each mention of the most mentioned events\n",
    "largest_events_time = largest_events.select('GLOBALEVENTID').join(mentions.select('GLOBALEVENTID','MentionTimeDate'), 'GLOBALEVENTID')\n",
    "# finds the number of mentions per month for the most mentioned events (converts to a conveniable time format)\n",
    "largest_events_Year_Month = largest_events_time.select([udf_mention1(column).alias('Year_Month_Mention') if column == 'MentionTimeDate' else column for column in largest_events_time.columns])\n",
    "largest_events_year_month = largest_events_Year_Month.groupBy('Year_Month_Mention','GLOBALEVENTID').count().orderBy('Year_Month_Mention') \n",
    "largest_events_month_year = largest_events_year_month.select([udf_mention2(column).alias('Month_Year_Mention') if column == 'Year_Month_Mention' else column for column in largest_events_year_month.columns])\n",
    "    \n",
    "largest_events_month_year.show(10)\n"
   ]
  },
  {
   "cell_type": "code",
   "execution_count": 26,
   "metadata": {},
   "outputs": [
    {
     "data": {
      "text/plain": [
       "array([False])"
      ]
     },
     "execution_count": 26,
     "metadata": {},
     "output_type": "execute_result"
    }
   ],
   "source": [
    "largest_events_month_year.toPandas().duplicated(subset='GLOBALEVENTID', keep='first').unique()"
   ]
  },
  {
   "cell_type": "markdown",
   "metadata": {},
   "source": [
    "We see here that since we are only considering 15 minutes of events per month, this analysis is not really significative. We would need data over a whole month to do a deeper analysis of the mentions of an event througout time. Indeed here, all the mentions for an event are in the same 15 minutes. "
   ]
  },
  {
   "cell_type": "markdown",
   "metadata": {},
   "source": [
    "# Mentions , Mediatic Coverge and Mediatic Attention\n",
    "\n",
    "Our project will be centered around the evaluation of the biais of medias towards specific locations and event types worldwide. \n",
    "To achieve this a indicator of media coverage and media attention should be defined. This will be achieved by using the mentions database with reports every 15 minutes all new report of events in the news. Each row in this database records a acticle/news report which mentioned at least once a specific event. \n",
    "\n",
    "#### Media Coverage :\n",
    "Media coverage will be defined as the number of mentions in news report a event will receive within 120 days (4 months) posterior to its occurence. As explicited above, this time period was set to avoid the biais of the date of occurence of the event. Indeed, our databse records mentions from February 2015 to November 2017. Each event should be considered on an equivalent period of time. \n",
    "As explicited above, another restriction will be applied to our mentions database : only mentions with a confidence ratio above 20 will be considered\n",
    "\n",
    "#### Mediatic Attention:\n",
    "In order to grasp the level of attention perceived by a event on the mediactic scene, we should compute the mediatic attention index.  This index will be considered as the ratio between media coverage and the total amount of mentions reported in the database during the equivalent period of time. This normalisation procedure allows to avoid a biased perception and compare the level of atention perceived by events. \n",
    "\n",
    "Let's first observe the distribution of mediatic coverage by event within our database : "
   ]
  },
  {
   "cell_type": "code",
   "execution_count": 27,
   "metadata": {},
   "outputs": [
    {
     "data": {
      "text/plain": [
       "12165"
      ]
     },
     "execution_count": 27,
     "metadata": {},
     "output_type": "execute_result"
    }
   ],
   "source": [
    "def get_delay(df_mentions):\n",
    "    # Get delay between event time and mention time\n",
    "    \n",
    "    timeFmt = \"yyyy-MM-dd'T'HH:mm:ss.SSS\"\n",
    "    timeDiff = (unix_timestamp('MentionTimeDate', format=timeFmt) - unix_timestamp('EventTimeDate', format=timeFmt))\n",
    "    \n",
    "    return df_mentions.withColumn(\"Mention delay\", timeDiff)\n",
    "\n",
    "def restric_cov(df_mentions, days_threshold):\n",
    "    # Narrow down mentions to 2 month posterior to event mentions\n",
    "    \n",
    "    restric_index = df_mentions['Mention Delay'] <= days_threshold*24*3600\n",
    "    \n",
    "    return df_mentions[df_mentions.schema.names][restric_index].sort('GLOBALEVENTID')\n",
    "\n",
    "mentions = restric_cov(get_delay(mentions),120)\n",
    "mentions.count()"
   ]
  },
  {
   "cell_type": "code",
   "execution_count": 28,
   "metadata": {},
   "outputs": [
    {
     "name": "stdout",
     "output_type": "stream",
     "text": [
      "+-------+------------------+\n",
      "|summary|   Number Mentions|\n",
      "+-------+------------------+\n",
      "|  count|              7478|\n",
      "|   mean|1.6267718641347955|\n",
      "| stddev|2.4175398998057145|\n",
      "|    min|                 1|\n",
      "|    max|                46|\n",
      "+-------+------------------+\n",
      "\n"
     ]
    }
   ],
   "source": [
    "def get_media_cov(df_mentions):\n",
    "    # Computing the mediatic coverage of each event in the mentions database\n",
    "    \n",
    "    return df_mentions.groupby('GLOBALEVENTID').agg(count('GLOBALEVENTID').alias('Number Mentions'))\n",
    "\n",
    "med_cov = get_media_cov(mentions)\n",
    "med_cov.select('Number Mentions').describe().show()"
   ]
  },
  {
   "cell_type": "code",
   "execution_count": 29,
   "metadata": {},
   "outputs": [
    {
     "data": {
      "text/plain": [
       "Text(0.5,1,'Distribution of mediatic coverage per event')"
      ]
     },
     "execution_count": 29,
     "metadata": {},
     "output_type": "execute_result"
    },
    {
     "data": {
      "image/png": "[encoded data removed]",
      "text/plain": [
       "<Figure size 720x288 with 1 Axes>"
      ]
     },
     "metadata": {},
     "output_type": "display_data"
    }
   ],
   "source": [
    "#Showing the distribution of mediatic coverage in database\n",
    "med_cov = med_cov.toPandas()\n",
    "fig = plt.subplots(figsize=(10,4))\n",
    "plt.hist(med_cov['Number Mentions'],bins = med_cov['Number Mentions'].max())\n",
    "plt.yscale('log')\n",
    "plt.xlabel('Number of relevant mentions per event')\n",
    "plt.ylabel('Frequency of occurence')\n",
    "plt.title('Distribution of mediatic coverage per event')\n"
   ]
  },
  {
   "cell_type": "markdown",
   "metadata": {},
   "source": [
    "In the mentions database, each row records a mention of an event in a news report. As understood in the documentation provided, each mentions reports to a single news report where the event was mentionned at least once. \n",
    "As seen above the most frequent number of mentions is one, a large amount of events receive very low mediatic coverage."
   ]
  },
  {
   "cell_type": "code",
   "execution_count": 30,
   "metadata": {},
   "outputs": [
    {
     "name": "stdout",
     "output_type": "stream",
     "text": [
      "+-------------+---------------+\n",
      "|GLOBALEVENTID|UnixMentionTime|\n",
      "+-------------+---------------+\n",
      "|    410479387|     1424313000|\n",
      "|    410479388|     1424313000|\n",
      "|    410479389|     1424313000|\n",
      "|    410479390|     1424313000|\n",
      "|    410479391|     1424313000|\n",
      "|    410479392|     1424313000|\n",
      "|    410479393|     1424313000|\n",
      "|    410479394|     1424313000|\n",
      "|    410479395|     1424313000|\n",
      "|    410479396|     1424313000|\n",
      "|    410479397|     1424313000|\n",
      "|    410479398|     1424313000|\n",
      "|    410479398|     1424313000|\n",
      "|    410479399|     1424313000|\n",
      "|    410479399|     1424313000|\n",
      "|    410479400|     1424313000|\n",
      "|    410479400|     1424313000|\n",
      "|    410479401|     1424313000|\n",
      "|    410479401|     1424313000|\n",
      "|    410479402|     1424313000|\n",
      "|    410479403|     1424313000|\n",
      "|    410479404|     1424313000|\n",
      "|    410479405|     1424313000|\n",
      "|    410479406|     1424313000|\n",
      "|    410479407|     1424313900|\n",
      "|    410479407|     1424313000|\n",
      "|    410479407|     1424313900|\n",
      "|    410479407|     1424313900|\n",
      "|    410479408|     1424313000|\n",
      "|    410479409|     1424313000|\n",
      "|    410479410|     1424313000|\n",
      "|    410479411|     1424313000|\n",
      "|    410479412|     1424313000|\n",
      "|    410479413|     1424313000|\n",
      "|    410479414|     1424313000|\n",
      "|    410479415|     1424313000|\n",
      "|    410479416|     1424313000|\n",
      "|    410479417|     1424313000|\n",
      "|    410479418|     1424313000|\n",
      "|    410479419|     1424313000|\n",
      "|    410479420|     1424313000|\n",
      "|    410479421|     1424313000|\n",
      "|    410479422|     1424313000|\n",
      "|    410479423|     1424313000|\n",
      "|    410479424|     1424313000|\n",
      "|    410479425|     1424313000|\n",
      "|    410479426|     1424313000|\n",
      "|    410479427|     1424313000|\n",
      "|    410479428|     1424313000|\n",
      "|    410479429|     1424313000|\n",
      "|    410479430|     1424313000|\n",
      "|    410479431|     1424313000|\n",
      "|    410479432|     1424313000|\n",
      "|    410479433|     1424313000|\n",
      "|    410479434|     1424313000|\n",
      "|    410479435|     1424313000|\n",
      "|    410479436|     1424313000|\n",
      "|    410479437|     1424313000|\n",
      "|    410479438|     1424313000|\n",
      "|    410479439|     1424313000|\n",
      "|    410479440|     1424313000|\n",
      "|    410479441|     1424313000|\n",
      "|    410479442|     1424313000|\n",
      "|    410479443|     1424313000|\n",
      "|    410479444|     1424313000|\n",
      "|    410479445|     1424313000|\n",
      "|    410479446|     1424313000|\n",
      "|    410479447|     1424313000|\n",
      "|    410479448|     1424313000|\n",
      "|    410479449|     1424313000|\n",
      "|    410479450|     1424313000|\n",
      "|    410479451|     1424313000|\n",
      "|    410479452|     1424313000|\n",
      "|    410479453|     1424313000|\n",
      "|    410479454|     1424313000|\n",
      "|    410479455|     1424313000|\n",
      "|    410479456|     1424313000|\n",
      "|    410479457|     1424313000|\n",
      "|    410479458|     1424313000|\n",
      "|    410479459|     1424313000|\n",
      "|    410479460|     1424313000|\n",
      "|    410479461|     1424313000|\n",
      "|    410479462|     1424313000|\n",
      "|    410479463|     1424313000|\n",
      "|    410479464|     1424313000|\n",
      "|    410479465|     1424313000|\n",
      "|    410479466|     1424313000|\n",
      "|    410479467|     1424313000|\n",
      "|    410479468|     1424313000|\n",
      "|    410479469|     1424313000|\n",
      "|    410479470|     1424313000|\n",
      "|    410479471|     1424313000|\n",
      "|    410479472|     1424313000|\n",
      "|    410479473|     1424313000|\n",
      "|    410479474|     1424313000|\n",
      "|    410479475|     1424313000|\n",
      "|    410479476|     1424313000|\n",
      "|    410479477|     1424313000|\n",
      "|    410479478|     1424313000|\n",
      "|    410479479|     1424313000|\n",
      "|    410479480|     1424313000|\n",
      "|    410479480|     1424313000|\n",
      "|    410479481|     1424313000|\n",
      "|    410479482|     1424313000|\n",
      "|    410479483|     1424313000|\n",
      "|    410479484|     1424313000|\n",
      "|    410479485|     1424313000|\n",
      "|    410479486|     1424313000|\n",
      "|    410479487|     1424313000|\n",
      "|    410479488|     1424313900|\n",
      "|    410479488|     1424313000|\n",
      "|    410479488|     1424313900|\n",
      "|    410479489|     1424313900|\n",
      "|    410479489|     1424313000|\n",
      "|    410479489|     1424313900|\n",
      "|    410479490|     1424313000|\n",
      "|    410479491|     1424313000|\n",
      "|    410479492|     1424313000|\n",
      "|    410479493|     1424313000|\n",
      "|    410479494|     1424313000|\n",
      "|    410479495|     1424313000|\n",
      "|    410479496|     1424313000|\n",
      "|    410479497|     1424313000|\n",
      "|    410479498|     1424313000|\n",
      "|    410479499|     1424313000|\n",
      "|    410479500|     1424313000|\n",
      "|    410479501|     1424313000|\n",
      "|    410479502|     1424313000|\n",
      "|    410479503|     1424313000|\n",
      "|    410479504|     1424313000|\n",
      "|    410479505|     1424313000|\n",
      "|    410479505|     1424313000|\n",
      "|    410479506|     1424313000|\n",
      "|    410479506|     1424313000|\n",
      "|    410479507|     1424313000|\n",
      "|    410479507|     1424313000|\n",
      "|    410479508|     1424313000|\n",
      "|    410479508|     1424313000|\n",
      "|    410479509|     1424313000|\n",
      "|    410479510|     1424313000|\n",
      "|    410479511|     1424313000|\n",
      "|    410479512|     1424313000|\n",
      "|    410479513|     1424313000|\n",
      "|    410479514|     1424313000|\n",
      "|    410479515|     1424313000|\n",
      "|    410479516|     1424313000|\n",
      "|    410479516|     1424313000|\n",
      "|    410479517|     1424313000|\n",
      "|    410479518|     1424313000|\n",
      "|    410479519|     1424313000|\n",
      "|    410479520|     1424313000|\n",
      "|    410479521|     1424313000|\n",
      "|    410479522|     1424313000|\n",
      "|    410479523|     1424313000|\n",
      "|    410479524|     1424313000|\n",
      "|    410479525|     1424313000|\n",
      "|    410479526|     1424313000|\n",
      "|    410479527|     1424313000|\n",
      "|    410479528|     1424313000|\n",
      "|    410479529|     1424313000|\n",
      "|    410479530|     1424313000|\n",
      "|    410479531|     1424313000|\n",
      "|    410479532|     1424313000|\n",
      "|    410479533|     1424313000|\n",
      "|    410479534|     1424313000|\n",
      "|    410479535|     1424313000|\n",
      "|    410479536|     1424313000|\n",
      "|    410479537|     1424313000|\n",
      "|    410479538|     1424313000|\n",
      "|    410479538|     1424313900|\n",
      "|    410479538|     1424313900|\n",
      "|    410479539|     1424313000|\n",
      "|    410479540|     1424313000|\n",
      "|    410479540|     1424313900|\n",
      "|    410479541|     1424313000|\n",
      "|    410479542|     1424313000|\n",
      "|    410479543|     1424313000|\n",
      "|    410479544|     1424313000|\n",
      "|    410479545|     1424313000|\n",
      "|    410479545|     1424313000|\n",
      "|    410479545|     1424313900|\n",
      "|    410479545|     1424313000|\n",
      "|    410479545|     1424313900|\n",
      "|    410479545|     1424313900|\n",
      "|    410479545|     1424313900|\n",
      "|    410479545|     1424313000|\n",
      "|    410479545|     1424313900|\n",
      "|    410479546|     1424313000|\n",
      "|    410479547|     1424313000|\n",
      "|    410479548|     1424313000|\n",
      "|    410479549|     1424313000|\n",
      "|    410479550|     1424313000|\n",
      "|    410479551|     1424313000|\n",
      "|    410479551|     1424313900|\n",
      "|    410479552|     1424313900|\n",
      "|    410479552|     1424313000|\n",
      "|    410479553|     1424313000|\n",
      "|    410479554|     1424313000|\n",
      "|    410479555|     1424313000|\n",
      "|    410479556|     1424313000|\n",
      "|    410479557|     1424313000|\n",
      "|    410479558|     1424313000|\n",
      "|    410479559|     1424313000|\n",
      "|    410479560|     1424313000|\n",
      "|    410479561|     1424313000|\n",
      "|    410479562|     1424313000|\n",
      "|    410479563|     1424313000|\n",
      "|    410479564|     1424313000|\n",
      "|    410479565|     1424313000|\n",
      "|    410479566|     1424313000|\n",
      "|    410479567|     1424313000|\n",
      "|    410479568|     1424313000|\n",
      "|    410479569|     1424313000|\n",
      "|    410479570|     1424313000|\n",
      "|    410479571|     1424313000|\n",
      "|    410479572|     1424313000|\n",
      "|    410479573|     1424313000|\n",
      "|    410479574|     1424313000|\n",
      "|    410479575|     1424313000|\n",
      "|    410479576|     1424313000|\n",
      "|    410479577|     1424313000|\n",
      "|    410479578|     1424313000|\n",
      "|    410479579|     1424313000|\n",
      "|    410479580|     1424313000|\n",
      "|    410479581|     1424313000|\n",
      "|    410479582|     1424313000|\n",
      "|    410479583|     1424313000|\n",
      "|    410479584|     1424313000|\n",
      "|    410479585|     1424313000|\n",
      "|    410479585|     1424313900|\n",
      "|    410479586|     1424313900|\n",
      "|    410479586|     1424313000|\n",
      "|    410479587|     1424313000|\n",
      "|    410479588|     1424313000|\n",
      "|    410479589|     1424313000|\n",
      "|    410479590|     1424313000|\n",
      "|    410479591|     1424313000|\n",
      "|    410479592|     1424313900|\n",
      "|    410479592|     1424313000|\n",
      "|    410479592|     1424313900|\n",
      "|    410479592|     1424313000|\n",
      "|    410479592|     1424313900|\n",
      "|    410479592|     1424313900|\n",
      "|    410479592|     1424313900|\n",
      "|    410479592|     1424313900|\n",
      "|    410479592|     1424313000|\n",
      "|    410479592|     1424313900|\n",
      "|    410479592|     1424313000|\n",
      "|    410479592|     1424313000|\n",
      "|    410479592|     1424313900|\n",
      "|    410479592|     1424313900|\n",
      "|    410479592|     1424313000|\n",
      "|    410479592|     1424313000|\n",
      "|    410479592|     1424313000|\n",
      "|    410479592|     1424313000|\n",
      "|    410479592|     1424313000|\n",
      "|    410479592|     1424313000|\n",
      "|    410479592|     1424313000|\n",
      "|    410479592|     1424313000|\n",
      "|    410479592|     1424313000|\n",
      "|    410479592|     1424313000|\n",
      "|    410479593|     1424313000|\n",
      "|    410479594|     1424313000|\n",
      "|    410479595|     1424313000|\n",
      "|    410479596|     1424313000|\n",
      "|    410479597|     1424313000|\n",
      "|    410479597|     1424313000|\n",
      "|    410479598|     1424313000|\n",
      "|    410479599|     1424313000|\n",
      "|    410479600|     1424313000|\n",
      "|    410479601|     1424313000|\n",
      "|    410479602|     1424313000|\n",
      "|    410479603|     1424313000|\n",
      "|    410479604|     1424313000|\n",
      "|    410479605|     1424313000|\n",
      "|    410479606|     1424313000|\n",
      "|    410479607|     1424313000|\n",
      "|    410479608|     1424313000|\n",
      "|    410479609|     1424313000|\n",
      "|    410479610|     1424313000|\n",
      "|    410479610|     1424313000|\n",
      "|    410479611|     1424313000|\n",
      "|    410479612|     1424313000|\n",
      "|    410479612|     1424313900|\n",
      "|    410479613|     1424313000|\n",
      "|    410479614|     1424313900|\n",
      "|    410479614|     1424313000|\n",
      "|    410479615|     1424313000|\n",
      "|    410479616|     1424313000|\n",
      "|    410479617|     1424313000|\n",
      "|    410479618|     1424313000|\n",
      "|    410479619|     1424313000|\n",
      "|    410479620|     1424313000|\n",
      "|    410479621|     1424313000|\n",
      "|    410479622|     1424313000|\n",
      "|    410479623|     1424313000|\n",
      "|    410479624|     1424313000|\n",
      "|    410479625|     1424313000|\n",
      "|    410479626|     1424313000|\n",
      "|    410479626|     1424313000|\n",
      "|    410479627|     1424313000|\n",
      "|    410479627|     1424313000|\n",
      "|    410479628|     1424313000|\n",
      "|    410479629|     1424313000|\n",
      "|    410479630|     1424313000|\n",
      "|    410479631|     1424313000|\n",
      "|    410479632|     1424313000|\n",
      "|    410479633|     1424313000|\n",
      "|    410479634|     1424313000|\n",
      "|    410479635|     1424313000|\n",
      "|    410479636|     1424313000|\n",
      "|    410479637|     1424313000|\n",
      "|    410479638|     1424313000|\n",
      "|    410479639|     1424313000|\n",
      "|    410479640|     1424313000|\n",
      "|    410479641|     1424313000|\n",
      "|    410479642|     1424313000|\n",
      "|    410479643|     1424313000|\n",
      "|    410479644|     1424313000|\n",
      "|    410479645|     1424313900|\n",
      "|    410479645|     1424313000|\n",
      "|    410479646|     1424313000|\n",
      "|    410479647|     1424313000|\n",
      "|    410479648|     1424313000|\n",
      "|    410479649|     1424313000|\n",
      "|    410479650|     1424313000|\n",
      "|    410479650|     1424313000|\n",
      "|    410479651|     1424313000|\n",
      "|    410479651|     1424313000|\n",
      "|    410479652|     1424313000|\n",
      "|    410479653|     1424313000|\n",
      "|    410479654|     1424313000|\n",
      "|    410479654|     1424313000|\n",
      "|    410479655|     1424313000|\n",
      "|    410479655|     1424313000|\n",
      "|    410479656|     1424313000|\n",
      "|    410479656|     1424313000|\n",
      "|    410479657|     1424313000|\n",
      "|    410479658|     1424313000|\n",
      "|    410479659|     1424313000|\n",
      "|    410479660|     1424313000|\n",
      "|    410479661|     1424313000|\n",
      "|    410479661|     1424313000|\n",
      "|    410479662|     1424313000|\n",
      "|    410479662|     1424313000|\n",
      "|    410479663|     1424313000|\n",
      "|    410479663|     1424313000|\n",
      "|    410479664|     1424313000|\n",
      "|    410479665|     1424313000|\n",
      "|    410479666|     1424313000|\n",
      "|    410479666|     1424313000|\n",
      "|    410479666|     1424313000|\n",
      "|    410479666|     1424313900|\n",
      "|    410479667|     1424313900|\n",
      "|    410479667|     1424313000|\n",
      "|    410479667|     1424313000|\n",
      "|    410479667|     1424313000|\n",
      "|    410479668|     1424313000|\n",
      "|    410479669|     1424313000|\n",
      "|    410479670|     1424313000|\n",
      "|    410479671|     1424313000|\n",
      "|    410479672|     1424313000|\n",
      "|    410479673|     1424313000|\n",
      "|    410479674|     1424313000|\n",
      "|    410479674|     1424313000|\n",
      "|    410479675|     1424313000|\n",
      "|    410479676|     1424313000|\n",
      "|    410479677|     1424313000|\n",
      "|    410479678|     1424313000|\n",
      "|    410479679|     1424313000|\n",
      "|    410479680|     1424313000|\n",
      "|    410479681|     1424313000|\n",
      "|    410479682|     1424313000|\n",
      "|    410479683|     1424313000|\n",
      "|    410479684|     1424313000|\n",
      "|    410479685|     1424313000|\n",
      "|    410479686|     1424313000|\n",
      "|    410479687|     1424313000|\n",
      "|    410479688|     1424313000|\n",
      "|    410479689|     1424313000|\n",
      "|    410479690|     1424313000|\n",
      "|    410479691|     1424313000|\n",
      "|    410479692|     1424313000|\n",
      "|    410479692|     1424313000|\n",
      "|    410479693|     1424313000|\n",
      "|    410479694|     1424313000|\n",
      "|    410479695|     1424313000|\n",
      "|    410479696|     1424313000|\n",
      "|    410479697|     1424313000|\n",
      "|    410479698|     1424313000|\n",
      "|    410479699|     1424313000|\n",
      "|    410479700|     1424313000|\n",
      "|    410479701|     1424313000|\n",
      "|    410479702|     1424313000|\n",
      "|    410479703|     1424313000|\n",
      "|    410479704|     1424313000|\n",
      "|    410479705|     1424313000|\n",
      "|    410479706|     1424313000|\n",
      "|    410479707|     1424313000|\n",
      "|    410479708|     1424313000|\n",
      "|    410479709|     1424313000|\n",
      "|    410479710|     1424313000|\n",
      "|    410479711|     1424313000|\n",
      "|    410479712|     1424313000|\n",
      "|    410479713|     1424313000|\n",
      "|    410479714|     1424313000|\n",
      "|    410479715|     1424313000|\n",
      "|    410479716|     1424313000|\n",
      "|    410479717|     1424313000|\n",
      "|    410479718|     1424313000|\n",
      "|    410479719|     1424313000|\n",
      "|    410479720|     1424313000|\n",
      "|    410479721|     1424313000|\n",
      "|    410479722|     1424313000|\n",
      "|    410479723|     1424313000|\n",
      "|    410479724|     1424313000|\n",
      "|    410479725|     1424313000|\n",
      "|    410479726|     1424313000|\n",
      "|    410479727|     1424313000|\n",
      "|    410479728|     1424313000|\n",
      "|    410479729|     1424313000|\n",
      "|    410479730|     1424313000|\n",
      "|    410479731|     1424313000|\n",
      "|    410479732|     1424313000|\n",
      "|    410479733|     1424313000|\n",
      "|    410479734|     1424313000|\n",
      "|    410479735|     1424313000|\n",
      "|    410479736|     1424313000|\n",
      "|    410479737|     1424313000|\n",
      "|    410479738|     1424313000|\n",
      "|    410479739|     1424313000|\n",
      "|    410479740|     1424313000|\n",
      "|    410479741|     1424313900|\n",
      "|    410479741|     1424313000|\n",
      "|    410479742|     1424313000|\n",
      "|    410479743|     1424313000|\n",
      "|    410479744|     1424313000|\n",
      "|    410479745|     1424313000|\n",
      "|    410479746|     1424313000|\n",
      "|    410479747|     1424313000|\n",
      "|    410479748|     1424313000|\n",
      "|    410479748|     1424313900|\n",
      "|    410479749|     1424313000|\n",
      "|    410479750|     1424313000|\n",
      "|    410479751|     1424313000|\n",
      "|    410479752|     1424313900|\n",
      "|    410479752|     1424313900|\n",
      "|    410479752|     1424313900|\n",
      "|    410479752|     1424313900|\n",
      "|    410479752|     1424313000|\n",
      "|    410479752|     1424313000|\n",
      "|    410479752|     1424313000|\n",
      "|    410479752|     1424313000|\n",
      "|    410479752|     1424313000|\n",
      "|    410479752|     1424313900|\n",
      "|    410479753|     1424313000|\n",
      "|    410479753|     1424313900|\n",
      "|    410479753|     1424313000|\n",
      "|    410479753|     1424313900|\n",
      "|    410479753|     1424313900|\n",
      "|    410479753|     1424313900|\n",
      "|    410479753|     1424313000|\n",
      "|    410479753|     1424313000|\n",
      "|    410479753|     1424313000|\n",
      "|    410479753|     1424313900|\n",
      "|    410479754|     1424313000|\n",
      "|    410479755|     1424313000|\n",
      "|    410479756|     1424313900|\n",
      "|    410479756|     1424313000|\n",
      "|    410479756|     1424313900|\n",
      "|    410479756|     1424313000|\n",
      "|    410479756|     1424313000|\n",
      "|    410479756|     1424313000|\n",
      "|    410479756|     1424313900|\n",
      "|    410479756|     1424313900|\n",
      "|    410479756|     1424313900|\n",
      "|    410479756|     1424313000|\n",
      "|    410479757|     1424313900|\n",
      "|    410479757|     1424313000|\n",
      "|    410479757|     1424313900|\n",
      "|    410479757|     1424313000|\n",
      "|    410479757|     1424313000|\n",
      "|    410479757|     1424313900|\n",
      "|    410479757|     1424313900|\n",
      "|    410479757|     1424313000|\n",
      "|    410479757|     1424313900|\n",
      "|    410479757|     1424313000|\n",
      "|    410479758|     1424313000|\n",
      "|    410479758|     1424313900|\n",
      "|    410479759|     1424313000|\n",
      "|    410479759|     1424313000|\n",
      "|    410479759|     1424313900|\n",
      "|    410479759|     1424313900|\n",
      "|    410479759|     1424313900|\n",
      "|    410479759|     1424313000|\n",
      "|    410479759|     1424313000|\n",
      "|    410479759|     1424313000|\n",
      "|    410479759|     1424313000|\n",
      "|    410479759|     1424313000|\n",
      "|    410479759|     1424313000|\n",
      "|    410479759|     1424313900|\n",
      "|    410479759|     1424313000|\n",
      "|    410479759|     1424313000|\n",
      "|    410479759|     1424313900|\n",
      "|    410479759|     1424313900|\n",
      "|    410479759|     1424313900|\n",
      "|    410479759|     1424313900|\n",
      "|    410479759|     1424313000|\n",
      "|    410479759|     1424313900|\n",
      "|    410479759|     1424313000|\n",
      "|    410479759|     1424313000|\n",
      "|    410479759|     1424313000|\n",
      "|    410479759|     1424313000|\n",
      "|    410479760|     1424313000|\n",
      "|    410479761|     1424313000|\n",
      "|    410479762|     1424313000|\n",
      "|    410479763|     1424313000|\n",
      "|    410479764|     1424313900|\n",
      "|    410479764|     1424313000|\n",
      "|    410479765|     1424313000|\n",
      "|    410479766|     1424313000|\n",
      "|    410479767|     1424313000|\n",
      "|    410479768|     1424313900|\n",
      "|    410479768|     1424313000|\n",
      "|    410479768|     1424313000|\n",
      "|    410479768|     1424313900|\n",
      "|    410479768|     1424313000|\n",
      "|    410479768|     1424313900|\n",
      "|    410479768|     1424313000|\n",
      "|    410479768|     1424313900|\n",
      "|    410479768|     1424313000|\n",
      "|    410479768|     1424313900|\n",
      "|    410479769|     1424313000|\n",
      "|    410479769|     1424313900|\n",
      "|    410479769|     1424313000|\n",
      "|    410479769|     1424313000|\n",
      "|    410479769|     1424313000|\n",
      "|    410479769|     1424313900|\n",
      "|    410479769|     1424313900|\n",
      "|    410479769|     1424313900|\n",
      "|    410479769|     1424313900|\n",
      "|    410479769|     1424313000|\n",
      "|    410479770|     1424313000|\n",
      "|    410479771|     1424313000|\n",
      "|    410479771|     1424313900|\n",
      "|    410479771|     1424313900|\n",
      "|    410479771|     1424313900|\n",
      "|    410479771|     1424313000|\n",
      "|    410479771|     1424313900|\n",
      "|    410479771|     1424313900|\n",
      "|    410479771|     1424313000|\n",
      "|    410479771|     1424313900|\n",
      "|    410479771|     1424313000|\n",
      "|    410479771|     1424313000|\n",
      "|    410479771|     1424313900|\n",
      "|    410479771|     1424313000|\n",
      "|    410479771|     1424313000|\n",
      "|    410479771|     1424313900|\n",
      "|    410479771|     1424313000|\n",
      "|    410479771|     1424313000|\n",
      "|    410479771|     1424313900|\n",
      "|    410479771|     1424313000|\n",
      "|    410479771|     1424313000|\n",
      "|    410479771|     1424313900|\n",
      "|    410479771|     1424313900|\n",
      "|    410479772|     1424313900|\n",
      "|    410479772|     1424313000|\n",
      "|    410479772|     1424313900|\n",
      "|    410479772|     1424313900|\n",
      "|    410479772|     1424313000|\n",
      "|    410479772|     1424313900|\n",
      "|    410479772|     1424313000|\n",
      "|    410479772|     1424313900|\n",
      "|    410479772|     1424313000|\n",
      "|    410479772|     1424313000|\n",
      "|    410479772|     1424313900|\n",
      "|    410479772|     1424313900|\n",
      "|    410479772|     1424313900|\n",
      "|    410479772|     1424313900|\n",
      "|    410479772|     1424313000|\n",
      "|    410479772|     1424313000|\n",
      "|    410479772|     1424313000|\n",
      "|    410479772|     1424313000|\n",
      "|    410479772|     1424313000|\n",
      "|    410479772|     1424313900|\n",
      "|    410479772|     1424313000|\n",
      "|    410479772|     1424313900|\n",
      "|    410479773|     1424313000|\n",
      "|    410479774|     1424313000|\n",
      "|    410479775|     1424313000|\n",
      "|    410479776|     1424313000|\n",
      "|    410479777|     1424313000|\n",
      "|    410479778|     1424313000|\n",
      "|    410479779|     1424313000|\n",
      "|    410479780|     1424313000|\n",
      "|    410479781|     1424313000|\n",
      "|    410479782|     1424313000|\n",
      "|    410479783|     1424313000|\n",
      "|    410479784|     1424313000|\n",
      "|    410479785|     1424313000|\n",
      "|    410479786|     1424313000|\n",
      "|    410479787|     1424313000|\n",
      "|    410479788|     1424313000|\n",
      "|    410479789|     1424313000|\n",
      "|    410479790|     1424313000|\n",
      "|    410479791|     1424313000|\n",
      "|    410479792|     1424313000|\n",
      "|    410479793|     1424313000|\n",
      "|    410479794|     1424313000|\n",
      "|    410479795|     1424313000|\n",
      "|    410479796|     1424313000|\n",
      "|    410479797|     1424313000|\n",
      "|    410479798|     1424313000|\n",
      "|    410479799|     1424313000|\n",
      "|    410479800|     1424313000|\n",
      "|    410479801|     1424313000|\n",
      "|    410479802|     1424313000|\n",
      "|    410479803|     1424313000|\n",
      "|    410479804|     1424313000|\n",
      "|    410479805|     1424313000|\n",
      "|    410479806|     1424313000|\n",
      "|    410479807|     1424313000|\n",
      "|    410479808|     1424313000|\n",
      "|    410479809|     1424313000|\n",
      "|    410479810|     1424313000|\n",
      "|    410479811|     1424313000|\n",
      "|    410479812|     1424313000|\n",
      "|    410479813|     1424313000|\n",
      "|    410479814|     1424313000|\n",
      "|    410479815|     1424313000|\n",
      "|    410479816|     1424313000|\n",
      "|    410479817|     1424313000|\n",
      "|    410479818|     1424313000|\n",
      "|    410479819|     1424313000|\n",
      "|    410479820|     1424313000|\n",
      "|    410479821|     1424313000|\n",
      "|    410479822|     1424313000|\n",
      "|    410479823|     1424313000|\n",
      "|    410479823|     1424313000|\n",
      "|    410479823|     1424313000|\n",
      "|    410479823|     1424313000|\n",
      "|    410479823|     1424313900|\n",
      "|    410479823|     1424313000|\n",
      "|    410479823|     1424313900|\n",
      "|    410479823|     1424313000|\n",
      "|    410479823|     1424313000|\n",
      "|    410479823|     1424313000|\n",
      "|    410479823|     1424313900|\n",
      "|    410479823|     1424313900|\n",
      "|    410479823|     1424313900|\n",
      "|    410479823|     1424313900|\n",
      "|    410479823|     1424313000|\n",
      "|    410479823|     1424313000|\n",
      "|    410479823|     1424313000|\n",
      "|    410479823|     1424313900|\n",
      "|    410479823|     1424313000|\n",
      "|    410479823|     1424313000|\n",
      "|    410479823|     1424313000|\n",
      "|    410479823|     1424313900|\n",
      "|    410479823|     1424313000|\n",
      "|    410479823|     1424313900|\n",
      "|    410479824|     1424313000|\n",
      "|    410479825|     1424313000|\n",
      "|    410479826|     1424313900|\n",
      "|    410479826|     1424313000|\n",
      "|    410479826|     1424313000|\n",
      "|    410479826|     1424313000|\n",
      "|    410479826|     1424313900|\n",
      "|    410479826|     1424313000|\n",
      "|    410479826|     1424313000|\n",
      "|    410479826|     1424313000|\n",
      "|    410479826|     1424313000|\n",
      "|    410479826|     1424313900|\n",
      "|    410479826|     1424313000|\n",
      "|    410479826|     1424313000|\n",
      "|    410479826|     1424313000|\n",
      "|    410479826|     1424313900|\n",
      "|    410479826|     1424313000|\n",
      "|    410479826|     1424313900|\n",
      "|    410479826|     1424313000|\n",
      "|    410479826|     1424313900|\n",
      "|    410479826|     1424313000|\n",
      "|    410479826|     1424313900|\n",
      "|    410479826|     1424313900|\n",
      "|    410479826|     1424313900|\n",
      "|    410479826|     1424313000|\n",
      "|    410479826|     1424313000|\n",
      "|    410479827|     1424313000|\n",
      "|    410479828|     1424313000|\n",
      "|    410479829|     1424313000|\n",
      "|    410479830|     1424313000|\n",
      "|    410479831|     1424313000|\n",
      "|    410479831|     1424313000|\n",
      "|    410479832|     1424313000|\n",
      "|    410479833|     1424313000|\n",
      "|    410479834|     1424313000|\n",
      "|    410479835|     1424313000|\n",
      "|    410479835|     1424313000|\n",
      "|    410479835|     1424313000|\n",
      "|    410479835|     1424313000|\n",
      "|    410479835|     1424313000|\n",
      "|    410479835|     1424313000|\n",
      "|    410479835|     1424313900|\n",
      "|    410479835|     1424313000|\n",
      "|    410479835|     1424313000|\n",
      "|    410479835|     1424313000|\n",
      "|    410479835|     1424313900|\n",
      "|    410479835|     1424313900|\n",
      "|    410479835|     1424313900|\n",
      "|    410479835|     1424313900|\n",
      "|    410479835|     1424313000|\n",
      "|    410479835|     1424313000|\n",
      "|    410479835|     1424313900|\n",
      "|    410479835|     1424313900|\n",
      "|    410479835|     1424313000|\n",
      "|    410479835|     1424313000|\n",
      "|    410479835|     1424313900|\n",
      "|    410479835|     1424313900|\n",
      "|    410479835|     1424313000|\n",
      "|    410479835|     1424313000|\n",
      "|    410479836|     1424313000|\n",
      "|    410479836|     1424313000|\n",
      "|    410479836|     1424313900|\n",
      "|    410479836|     1424313000|\n",
      "|    410479836|     1424313000|\n",
      "|    410479836|     1424313000|\n",
      "|    410479836|     1424313900|\n",
      "|    410479836|     1424313900|\n",
      "|    410479836|     1424313000|\n",
      "|    410479836|     1424313000|\n",
      "|    410479836|     1424313000|\n",
      "|    410479836|     1424313000|\n",
      "|    410479836|     1424313900|\n",
      "|    410479836|     1424313000|\n",
      "|    410479836|     1424313000|\n",
      "|    410479836|     1424313900|\n",
      "|    410479836|     1424313000|\n",
      "|    410479836|     1424313000|\n",
      "|    410479836|     1424313900|\n",
      "|    410479836|     1424313000|\n",
      "|    410479836|     1424313000|\n",
      "|    410479836|     1424313900|\n",
      "|    410479836|     1424313900|\n",
      "|    410479836|     1424313900|\n",
      "|    410479837|     1424313000|\n",
      "|    410479838|     1424313000|\n",
      "|    410479839|     1424313000|\n",
      "|    410479840|     1424313000|\n",
      "|    410479841|     1424313000|\n",
      "|    410479842|     1424313000|\n",
      "|    410479843|     1424313000|\n",
      "|    410479844|     1424313000|\n",
      "|    410479845|     1424313000|\n",
      "|    410479846|     1424313000|\n",
      "|    410479847|     1424313000|\n",
      "|    410479848|     1424313000|\n",
      "|    410479849|     1424313000|\n",
      "|    410479850|     1424313000|\n",
      "|    410479851|     1424313000|\n",
      "|    410479852|     1424313000|\n",
      "|    410479853|     1424313000|\n",
      "|    410479854|     1424313000|\n",
      "|    410479855|     1424313000|\n",
      "|    410479856|     1424313000|\n",
      "|    410479857|     1424313000|\n",
      "|    410479858|     1424313000|\n",
      "|    410479859|     1424313000|\n",
      "|    410479860|     1424313000|\n",
      "|    410479860|     1424313000|\n",
      "|    410479860|     1424313900|\n",
      "|    410479860|     1424313000|\n",
      "|    410479860|     1424313900|\n",
      "|    410479860|     1424313000|\n",
      "|    410479860|     1424313000|\n",
      "|    410479860|     1424313900|\n",
      "|    410479860|     1424313900|\n",
      "|    410479860|     1424313000|\n",
      "|    410479860|     1424313000|\n",
      "|    410479860|     1424313900|\n",
      "|    410479860|     1424313000|\n",
      "|    410479860|     1424313900|\n",
      "|    410479860|     1424313900|\n",
      "|    410479860|     1424313900|\n",
      "|    410479860|     1424313000|\n",
      "|    410479860|     1424313000|\n",
      "|    410479860|     1424313000|\n",
      "|    410479860|     1424313000|\n",
      "|    410479860|     1424313000|\n",
      "|    410479860|     1424313000|\n",
      "|    410479860|     1424313000|\n",
      "|    410479860|     1424313900|\n",
      "|    410479861|     1424313000|\n",
      "|    410479862|     1424313000|\n",
      "|    410479863|     1424313000|\n",
      "|    410479864|     1424313000|\n",
      "|    410479865|     1424313000|\n",
      "|    410479866|     1424313000|\n",
      "|    410479867|     1424313000|\n",
      "|    410479868|     1424313000|\n",
      "|    410479869|     1424313000|\n",
      "|    410479870|     1424313000|\n",
      "|    410479871|     1424313000|\n",
      "|    410479872|     1424313000|\n",
      "|    410479873|     1424313000|\n",
      "|    410479874|     1424313000|\n",
      "|    410479875|     1424313000|\n",
      "|    410479876|     1424313000|\n",
      "|    410479877|     1424313000|\n",
      "|    410479878|     1424313000|\n",
      "|    410479879|     1424313000|\n",
      "|    410479880|     1424313000|\n",
      "|    410479881|     1424313000|\n",
      "|    410479882|     1424313000|\n",
      "|    410479883|     1424313000|\n",
      "|    410479884|     1424313000|\n",
      "|    410479885|     1424313000|\n",
      "|    410479886|     1424313000|\n",
      "|    410479887|     1424313000|\n",
      "|    410479888|     1424313000|\n",
      "|    410479889|     1424313000|\n",
      "|    410479890|     1424313000|\n",
      "|    410479891|     1424313000|\n",
      "|    410479892|     1424313000|\n",
      "|    410479893|     1424313000|\n",
      "|    410479894|     1424313000|\n",
      "|    410479895|     1424313000|\n",
      "|    410479896|     1424313000|\n",
      "|    410479897|     1424313000|\n",
      "|    410479898|     1424313900|\n",
      "|    410479898|     1424313000|\n",
      "|    410479899|     1424313000|\n",
      "|    410479900|     1424313000|\n",
      "|    410479901|     1424313000|\n",
      "|    410479902|     1424313000|\n",
      "|    410479903|     1424313000|\n",
      "|    410479904|     1424313000|\n",
      "|    410479905|     1424313000|\n",
      "|    410479906|     1424313000|\n",
      "|    410479907|     1424313000|\n",
      "|    410479907|     1424313000|\n",
      "|    410479907|     1424313000|\n",
      "|    410479907|     1424313000|\n",
      "|    410479908|     1424313000|\n",
      "|    410479908|     1424313000|\n",
      "|    410479908|     1424313000|\n",
      "|    410479908|     1424313000|\n",
      "|    410479909|     1424313000|\n",
      "|    410479910|     1424313000|\n",
      "|    410479911|     1424313000|\n",
      "|    410479912|     1424313000|\n",
      "|    410479913|     1424313000|\n",
      "|    410479914|     1424313000|\n",
      "|    410479915|     1424313000|\n",
      "|    410479916|     1424313000|\n",
      "|    410479917|     1424313000|\n",
      "|    410479918|     1424313000|\n",
      "|    410479919|     1424313000|\n",
      "|    410479920|     1424313000|\n",
      "|    410479921|     1424313000|\n",
      "|    410479922|     1424313000|\n",
      "|    410479923|     1424313000|\n",
      "|    410479924|     1424313000|\n",
      "|    410479925|     1424313000|\n",
      "|    410479926|     1424313000|\n",
      "|    410479927|     1424313000|\n",
      "|    410479928|     1424313000|\n",
      "|    410479929|     1424313000|\n",
      "|    410479930|     1424313000|\n",
      "|    410479931|     1424313000|\n",
      "|    410479932|     1424313000|\n",
      "|    410479933|     1424313000|\n",
      "|    410479934|     1424313000|\n",
      "|    410479935|     1424313000|\n",
      "|    410479936|     1424313000|\n",
      "|    410479937|     1424313000|\n",
      "|    410479938|     1424313000|\n",
      "|    410479939|     1424313000|\n",
      "|    410479940|     1424313000|\n",
      "|    410479941|     1424313000|\n",
      "|    410479942|     1424313000|\n",
      "|    410479943|     1424313000|\n",
      "|    410479944|     1424313000|\n",
      "|    410479945|     1424313000|\n",
      "|    410479946|     1424313000|\n",
      "|    410479947|     1424313000|\n",
      "|    410479948|     1424313000|\n",
      "|    410479949|     1424313000|\n",
      "|    410479950|     1424313000|\n",
      "|    410479951|     1424313000|\n",
      "|    410479952|     1424313000|\n",
      "|    410479953|     1424313000|\n",
      "|    410479954|     1424313000|\n",
      "|    410479955|     1424313000|\n",
      "|    410479956|     1424313000|\n",
      "|    410479957|     1424313000|\n",
      "|    410479958|     1424313000|\n",
      "|    410479959|     1424313000|\n",
      "|    410479960|     1424313000|\n",
      "|    410479961|     1424313000|\n",
      "|    410479962|     1424313000|\n",
      "|    410479963|     1424313000|\n",
      "|    410479964|     1424313000|\n",
      "|    410479965|     1424313000|\n",
      "|    410479966|     1424313000|\n",
      "|    410479967|     1424313000|\n",
      "|    410479968|     1424313000|\n",
      "|    410479969|     1424313000|\n",
      "|    410479970|     1424313000|\n",
      "|    410479971|     1424313000|\n",
      "|    410479972|     1424313000|\n",
      "|    410479973|     1424313000|\n",
      "|    410479974|     1424313000|\n",
      "|    410479975|     1424313000|\n",
      "|    410479976|     1424313000|\n",
      "|    410479977|     1424313000|\n",
      "|    410479978|     1424313000|\n",
      "|    410479979|     1424313000|\n",
      "|    410479980|     1424313000|\n",
      "|    410479981|     1424313000|\n",
      "|    410479982|     1424313000|\n",
      "|    410479983|     1424313000|\n",
      "|    410479984|     1424313000|\n",
      "|    410479985|     1424313000|\n",
      "|    410479986|     1424313000|\n",
      "|    410479987|     1424313000|\n",
      "|    410479988|     1424313000|\n",
      "|    410479989|     1424313000|\n",
      "|    410479990|     1424313000|\n",
      "|    410479991|     1424313000|\n",
      "|    410479992|     1424313000|\n",
      "|    410479993|     1424313000|\n",
      "|    410479994|     1424313000|\n",
      "|    410479995|     1424313000|\n",
      "|    410479996|     1424313000|\n",
      "|    410479997|     1424313000|\n",
      "|    410479998|     1424313000|\n",
      "|    410479999|     1424313000|\n",
      "|    410480000|     1424313000|\n",
      "|    410480001|     1424313000|\n",
      "|    410480002|     1424313000|\n",
      "|    410480003|     1424313000|\n",
      "|    410480004|     1424313000|\n",
      "|    410480005|     1424313000|\n",
      "|    410480006|     1424313000|\n",
      "|    410480007|     1424313000|\n",
      "|    410480008|     1424313000|\n",
      "|    410480009|     1424313000|\n",
      "|    410480010|     1424313000|\n",
      "|    410480011|     1424313000|\n",
      "|    410480012|     1424313000|\n",
      "|    410480013|     1424313000|\n",
      "|    410480014|     1424313000|\n",
      "|    410480015|     1424313000|\n",
      "|    410480016|     1424313000|\n",
      "|    410480017|     1424313000|\n",
      "|    410480018|     1424313000|\n",
      "|    410480019|     1424313000|\n",
      "|    410480020|     1424313000|\n",
      "|    410480021|     1424313000|\n",
      "|    410480022|     1424313000|\n",
      "|    410480023|     1424313000|\n",
      "|    410480024|     1424313000|\n",
      "|    410480025|     1424313000|\n",
      "|    410480026|     1424313000|\n",
      "|    410480027|     1424313000|\n",
      "|    410480028|     1424313000|\n",
      "|    410480029|     1424313000|\n",
      "|    410480029|     1424313000|\n",
      "|    410480030|     1424313000|\n",
      "|    410480030|     1424313000|\n",
      "|    410480031|     1424313000|\n",
      "|    410480032|     1424313000|\n",
      "|    410480033|     1424313000|\n",
      "|    410480034|     1424313000|\n",
      "|    410480034|     1424313900|\n",
      "|    410480034|     1424313900|\n",
      "|    410480035|     1424313000|\n",
      "|    410480036|     1424313000|\n",
      "|    410480037|     1424313000|\n",
      "|    410480038|     1424313000|\n",
      "|    410480039|     1424313000|\n",
      "|    410480040|     1424313000|\n",
      "|    410480041|     1424313000|\n",
      "|    410480042|     1424313000|\n",
      "|    410480042|     1424313900|\n",
      "|    410480043|     1424313000|\n",
      "|    410480044|     1424313900|\n",
      "|    410480044|     1424313000|\n",
      "|    410480045|     1424313000|\n",
      "|    410480045|     1424313900|\n",
      "|    410480046|     1424313000|\n",
      "|    410480047|     1424313000|\n",
      "|    410480048|     1424313900|\n",
      "|    410480048|     1424313900|\n",
      "|    410480048|     1424313000|\n",
      "|    410480049|     1424313000|\n",
      "|    410480049|     1424313000|\n",
      "|    410480049|     1424313900|\n",
      "|    410480050|     1424313000|\n",
      "|    410480051|     1424313000|\n",
      "+-------------+---------------+\n",
      "only showing top 1000 rows\n",
      "\n"
     ]
    }
   ],
   "source": [
    "#Work in progress : mediatic attention function\n",
    "mentions = mentions.alias('mentions')\n",
    "events = events.alias('events')\n",
    "timeFmt = \"yyyy-MM-dd'T'HH:mm:ss.SSS\"\n",
    "timeDiff = (unix_timestamp('MentionTimeDate', format=timeFmt))\n",
    "\n",
    "\n",
    "x = events.join(mentions, events['GLOBALEVENTID'] == mentions['GLOBALEVENTID'],how = 'left').select(['mentions.*']).sort('GLOBALEVENTID')\n",
    "x = x.withColumn(\"UnixMentionTime\", timeDiff).select(['GLOBALEVENTID','UnixMentionTime'])\n",
    "x.show(1000)\n",
    "\n",
    "def get_x(time_mention):\n",
    "\n",
    "    ans = x[x.schema.names][time_mention <= x['UnixEventTime'] <= (time_mention +(3600*24*120))]\n",
    "    ans.show()\n",
    "    return ans\n",
    "\n",
    "udf = UserDefinedFunction(lambda z: get_x(z).count())\n",
    "# x = x.select([udf(column).alias('Total Number Mentions') if column == 'UnixMentionTime' else column for column in x.columns])   \n",
    "    \n",
    "# x.show()\n"
   ]
  },
  {
   "cell_type": "markdown",
   "metadata": {},
   "source": [
    "# Geography\n",
    "### Human activity per country (average over the 2 years)\n",
    "We represented the distribution of events in the different countries over the 2 years, to see in which countries there seems to be more events taking place, according to the information related in the medias."
   ]
  },
  {
   "cell_type": "code",
   "execution_count": 31,
   "metadata": {},
   "outputs": [],
   "source": [
    "# returns the number of events per country over the 2 years\n",
    "def get_events_country(df_events) : \n",
    "    df_events_countries = df_events.groupBy('ActionGeo_CountryCode').count().orderBy('count').toPandas()\n",
    "    df_events_countries.columns = ['ActionGeo_CountryCode','human_activity']\n",
    "    return df_events_countries"
   ]
  },
  {
   "cell_type": "code",
   "execution_count": 32,
   "metadata": {},
   "outputs": [
    {
     "data": {
      "text/html": [
       "<div>\n",
       "<style scoped>\n",
       "    .dataframe tbody tr th:only-of-type {\n",
       "        vertical-align: middle;\n",
       "    }\n",
       "\n",
       "    .dataframe tbody tr th {\n",
       "        vertical-align: top;\n",
       "    }\n",
       "\n",
       "    .dataframe thead th {\n",
       "        text-align: right;\n",
       "    }\n",
       "</style>\n",
       "<table border=\"1\" class=\"dataframe\">\n",
       "  <thead>\n",
       "    <tr style=\"text-align: right;\">\n",
       "      <th></th>\n",
       "      <th>ActionGeo_CountryCode</th>\n",
       "      <th>human_activity</th>\n",
       "    </tr>\n",
       "  </thead>\n",
       "  <tbody>\n",
       "    <tr>\n",
       "      <th>102</th>\n",
       "      <td>EI</td>\n",
       "      <td>75</td>\n",
       "    </tr>\n",
       "    <tr>\n",
       "      <th>103</th>\n",
       "      <td>CA</td>\n",
       "      <td>99</td>\n",
       "    </tr>\n",
       "    <tr>\n",
       "      <th>104</th>\n",
       "      <td>None</td>\n",
       "      <td>113</td>\n",
       "    </tr>\n",
       "    <tr>\n",
       "      <th>105</th>\n",
       "      <td>PH</td>\n",
       "      <td>115</td>\n",
       "    </tr>\n",
       "    <tr>\n",
       "      <th>106</th>\n",
       "      <td>CN</td>\n",
       "      <td>117</td>\n",
       "    </tr>\n",
       "    <tr>\n",
       "      <th>107</th>\n",
       "      <td>NG</td>\n",
       "      <td>148</td>\n",
       "    </tr>\n",
       "    <tr>\n",
       "      <th>108</th>\n",
       "      <td>AU</td>\n",
       "      <td>157</td>\n",
       "    </tr>\n",
       "    <tr>\n",
       "      <th>109</th>\n",
       "      <td>IN</td>\n",
       "      <td>189</td>\n",
       "    </tr>\n",
       "    <tr>\n",
       "      <th>110</th>\n",
       "      <td>PK</td>\n",
       "      <td>220</td>\n",
       "    </tr>\n",
       "    <tr>\n",
       "      <th>111</th>\n",
       "      <td>US</td>\n",
       "      <td>1592</td>\n",
       "    </tr>\n",
       "  </tbody>\n",
       "</table>\n",
       "</div>"
      ],
      "text/plain": [
       "    ActionGeo_CountryCode  human_activity\n",
       "102                    EI              75\n",
       "103                    CA              99\n",
       "104                  None             113\n",
       "105                    PH             115\n",
       "106                    CN             117\n",
       "107                    NG             148\n",
       "108                    AU             157\n",
       "109                    IN             189\n",
       "110                    PK             220\n",
       "111                    US            1592"
      ]
     },
     "execution_count": 32,
     "metadata": {},
     "output_type": "execute_result"
    }
   ],
   "source": [
    "events_country = get_events_country(events)\n",
    "events_country.tail(10)"
   ]
  },
  {
   "cell_type": "code",
   "execution_count": 33,
   "metadata": {},
   "outputs": [
    {
     "data": {
      "text/plain": [
       "Text(0.5,1,'Human activitites related through the medias across countries')"
      ]
     },
     "execution_count": 33,
     "metadata": {},
     "output_type": "execute_result"
    },
    {
     "data": {
      "image/png": "[encoded data removed]",
      "text/plain": [
       "<Figure size 144x288 with 1 Axes>"
      ]
     },
     "metadata": {},
     "output_type": "display_data"
    }
   ],
   "source": [
    "# boxplot of the number of events of each country\n",
    "fig = plt.subplots(figsize=(2,4))\n",
    "events_country.boxplot(column='human_activity', grid=False)\n",
    "plt.title('Human activitites related through the medias across countries')"
   ]
  },
  {
   "cell_type": "code",
   "execution_count": 34,
   "metadata": {},
   "outputs": [
    {
     "data": {
      "text/html": [
       "<div>\n",
       "<style scoped>\n",
       "    .dataframe tbody tr th:only-of-type {\n",
       "        vertical-align: middle;\n",
       "    }\n",
       "\n",
       "    .dataframe tbody tr th {\n",
       "        vertical-align: top;\n",
       "    }\n",
       "\n",
       "    .dataframe thead th {\n",
       "        text-align: right;\n",
       "    }\n",
       "</style>\n",
       "<table border=\"1\" class=\"dataframe\">\n",
       "  <thead>\n",
       "    <tr style=\"text-align: right;\">\n",
       "      <th></th>\n",
       "      <th>human_activity</th>\n",
       "    </tr>\n",
       "  </thead>\n",
       "  <tbody>\n",
       "    <tr>\n",
       "      <th>count</th>\n",
       "      <td>112.000000</td>\n",
       "    </tr>\n",
       "    <tr>\n",
       "      <th>mean</th>\n",
       "      <td>37.375000</td>\n",
       "    </tr>\n",
       "    <tr>\n",
       "      <th>std</th>\n",
       "      <td>153.221157</td>\n",
       "    </tr>\n",
       "    <tr>\n",
       "      <th>min</th>\n",
       "      <td>1.000000</td>\n",
       "    </tr>\n",
       "    <tr>\n",
       "      <th>25%</th>\n",
       "      <td>2.750000</td>\n",
       "    </tr>\n",
       "    <tr>\n",
       "      <th>50%</th>\n",
       "      <td>7.500000</td>\n",
       "    </tr>\n",
       "    <tr>\n",
       "      <th>75%</th>\n",
       "      <td>24.500000</td>\n",
       "    </tr>\n",
       "    <tr>\n",
       "      <th>max</th>\n",
       "      <td>1592.000000</td>\n",
       "    </tr>\n",
       "  </tbody>\n",
       "</table>\n",
       "</div>"
      ],
      "text/plain": [
       "       human_activity\n",
       "count      112.000000\n",
       "mean        37.375000\n",
       "std        153.221157\n",
       "min          1.000000\n",
       "25%          2.750000\n",
       "50%          7.500000\n",
       "75%         24.500000\n",
       "max       1592.000000"
      ]
     },
     "execution_count": 34,
     "metadata": {},
     "output_type": "execute_result"
    }
   ],
   "source": [
    "events_country.describe()"
   ]
  },
  {
   "cell_type": "code",
   "execution_count": 35,
   "metadata": {},
   "outputs": [
    {
     "data": {
      "text/html": [
       "<div>\n",
       "<style scoped>\n",
       "    .dataframe tbody tr th:only-of-type {\n",
       "        vertical-align: middle;\n",
       "    }\n",
       "\n",
       "    .dataframe tbody tr th {\n",
       "        vertical-align: top;\n",
       "    }\n",
       "\n",
       "    .dataframe thead th {\n",
       "        text-align: right;\n",
       "    }\n",
       "</style>\n",
       "<table border=\"1\" class=\"dataframe\">\n",
       "  <thead>\n",
       "    <tr style=\"text-align: right;\">\n",
       "      <th></th>\n",
       "      <th>ActionGeo_CountryCode</th>\n",
       "      <th>human_activity</th>\n",
       "    </tr>\n",
       "  </thead>\n",
       "  <tbody>\n",
       "    <tr>\n",
       "      <th>111</th>\n",
       "      <td>US</td>\n",
       "      <td>1592</td>\n",
       "    </tr>\n",
       "  </tbody>\n",
       "</table>\n",
       "</div>"
      ],
      "text/plain": [
       "    ActionGeo_CountryCode  human_activity\n",
       "111                    US            1592"
      ]
     },
     "execution_count": 35,
     "metadata": {},
     "output_type": "execute_result"
    }
   ],
   "source": [
    "# outlier countries in terms of human activity in the countries over the 2 years\n",
    "outliers = events_country[(np.abs(events_country.human_activity-events_country.human_activity.mean()) > (3*events_country.human_activity.std()))]\n",
    "outliers.head()"
   ]
  },
  {
   "cell_type": "code",
   "execution_count": 36,
   "metadata": {},
   "outputs": [
    {
     "data": {
      "image/png": "[encoded data removed]",
      "text/plain": [
       "<Figure size 1584x360 with 1 Axes>"
      ]
     },
     "metadata": {},
     "output_type": "display_data"
    }
   ],
   "source": [
    "# represents the number of events over the 2 years for the countries in which less events took place (LINEAR SCALE)\n",
    "events_country_less = events_country[events_country['human_activity']<33]\n",
    "x_pos = np.arange(len(events_country_less['human_activity']))\n",
    "fig, ax = plt.subplots(figsize=(22,5))\n",
    "ax.bar(x_pos, events_country_less['human_activity'])\n",
    "ax.set_xticks(x_pos)\n",
    "ax.set_xticklabels(events_country_less['ActionGeo_CountryCode'])\n",
    "ax.set_ylabel('Human activity')\n",
    "ax.set_title(\"Human activity per country over the 2 years (LINEAR SCALE)\")\n",
    "plt.xticks(x_pos, events_country_less['ActionGeo_CountryCode'], rotation='vertical')\n",
    "plt.show()"
   ]
  },
  {
   "cell_type": "code",
   "execution_count": 37,
   "metadata": {},
   "outputs": [
    {
     "data": {
      "image/png": "[encoded data removed]",
      "text/plain": [
       "<Figure size 1584x360 with 1 Axes>"
      ]
     },
     "metadata": {},
     "output_type": "display_data"
    }
   ],
   "source": [
    "# represents the number of events over the 2 years for the countries in which more events took place (LOG SCALE)\n",
    "events_country_more = events_country[events_country['human_activity']>33]\n",
    "x_pos = np.arange(len(events_country_more['human_activity']))\n",
    "fig, ax = plt.subplots(figsize=(22,5))\n",
    "ax.bar(x_pos, events_country_more['human_activity'])\n",
    "ax.set_yscale('log')\n",
    "ax.set_xticks(x_pos)\n",
    "ax.set_xticklabels(events_country_more['ActionGeo_CountryCode'])\n",
    "ax.set_ylabel('Human activity')\n",
    "ax.set_title(\"Human activity per country over the 2 years (LOG SCALE)\")\n",
    "plt.xticks(x_pos, events_country_more['ActionGeo_CountryCode'], rotation='vertical')\n",
    "plt.show()"
   ]
  },
  {
   "cell_type": "markdown",
   "metadata": {},
   "source": [
    "According to the informations related through the medias, the United States (US) seem to be the country where most of the human activity is taking place. Indeed, it is a clear outlier in the distribution of human activity, because its number of events is way above the median. Canada (CA) is also highly represented in terms of human activity. This might be because most of the news sources considered by the database come from the USA and will thus tend to display the events taking place in the country itself and in the bordering countries. \n",
    "\n",
    "What we also observe is that many events are associated with no country (None), which means that an important amount of events from the database are misclassified in terms of geographical location. However, since we have a huge amount of data, we chose to remove these events in the future, when we will represent features per country."
   ]
  },
  {
   "cell_type": "markdown",
   "metadata": {},
   "source": [
    "### Media coverage and mediatic attention per country (average over the 2 years)\n",
    "We looked at the distribution of media coverage and mediatic attention in the countries, to have an idea of the countries which are more present in the news. "
   ]
  },
  {
   "cell_type": "code",
   "execution_count": 38,
   "metadata": {},
   "outputs": [],
   "source": [
    "# returns the media coverage for each country over the 2 years\n",
    "def get_media_coverage_country(events_df,mentions_df) :\n",
    "    \n",
    "    # mentions per event\n",
    "    mentions_count = mentions_df.groupBy('GLOBALEVENTID').count()\n",
    "    country_count = mentions_count.join(events_df, 'GLOBALEVENTID')\n",
    "    # mentions per country over the 2 years (= media coverage)\n",
    "    country_count = country_count.groupBy('ActionGeo_CountryCode').sum('count').orderBy(desc('sum(count)'))\n",
    "    country_count = country_count.toPandas()\n",
    "    country_count.columns = ['ActionGeo_CountryCode','media_coverage']\n",
    "    # total number of mentions for all the events\n",
    "    total = mentions_df.join(events, 'GLOBALEVENTID').count()\n",
    "    # percentage of mentions per country over worldwide mentions over the 2 years (= mediatic attention)\n",
    "    country_count['media_attention'] = country_count['media_coverage'].multiply(100).divide(total)\n",
    "    \n",
    "    return country_count\n",
    "    "
   ]
  },
  {
   "cell_type": "code",
   "execution_count": 39,
   "metadata": {},
   "outputs": [],
   "source": [
    "media_countries = get_media_coverage_country(events, mentions)"
   ]
  },
  {
   "cell_type": "code",
   "execution_count": 40,
   "metadata": {},
   "outputs": [
    {
     "data": {
      "text/html": [
       "<div>\n",
       "<style scoped>\n",
       "    .dataframe tbody tr th:only-of-type {\n",
       "        vertical-align: middle;\n",
       "    }\n",
       "\n",
       "    .dataframe tbody tr th {\n",
       "        vertical-align: top;\n",
       "    }\n",
       "\n",
       "    .dataframe thead th {\n",
       "        text-align: right;\n",
       "    }\n",
       "</style>\n",
       "<table border=\"1\" class=\"dataframe\">\n",
       "  <thead>\n",
       "    <tr style=\"text-align: right;\">\n",
       "      <th></th>\n",
       "      <th>ActionGeo_CountryCode</th>\n",
       "      <th>media_coverage</th>\n",
       "      <th>media_attention</th>\n",
       "    </tr>\n",
       "  </thead>\n",
       "  <tbody>\n",
       "    <tr>\n",
       "      <th>0</th>\n",
       "      <td>US</td>\n",
       "      <td>1815</td>\n",
       "      <td>34.335982</td>\n",
       "    </tr>\n",
       "    <tr>\n",
       "      <th>1</th>\n",
       "      <td>AU</td>\n",
       "      <td>569</td>\n",
       "      <td>10.764283</td>\n",
       "    </tr>\n",
       "    <tr>\n",
       "      <th>2</th>\n",
       "      <td>PK</td>\n",
       "      <td>257</td>\n",
       "      <td>4.861899</td>\n",
       "    </tr>\n",
       "    <tr>\n",
       "      <th>3</th>\n",
       "      <td>IN</td>\n",
       "      <td>221</td>\n",
       "      <td>4.180855</td>\n",
       "    </tr>\n",
       "    <tr>\n",
       "      <th>4</th>\n",
       "      <td>NG</td>\n",
       "      <td>159</td>\n",
       "      <td>3.007946</td>\n",
       "    </tr>\n",
       "    <tr>\n",
       "      <th>5</th>\n",
       "      <td>CN</td>\n",
       "      <td>139</td>\n",
       "      <td>2.629588</td>\n",
       "    </tr>\n",
       "    <tr>\n",
       "      <th>6</th>\n",
       "      <td>PH</td>\n",
       "      <td>132</td>\n",
       "      <td>2.497162</td>\n",
       "    </tr>\n",
       "    <tr>\n",
       "      <th>7</th>\n",
       "      <td>None</td>\n",
       "      <td>127</td>\n",
       "      <td>2.402573</td>\n",
       "    </tr>\n",
       "    <tr>\n",
       "      <th>8</th>\n",
       "      <td>IT</td>\n",
       "      <td>123</td>\n",
       "      <td>2.326901</td>\n",
       "    </tr>\n",
       "    <tr>\n",
       "      <th>9</th>\n",
       "      <td>CA</td>\n",
       "      <td>116</td>\n",
       "      <td>2.194476</td>\n",
       "    </tr>\n",
       "    <tr>\n",
       "      <th>10</th>\n",
       "      <td>CU</td>\n",
       "      <td>86</td>\n",
       "      <td>1.626939</td>\n",
       "    </tr>\n",
       "    <tr>\n",
       "      <th>11</th>\n",
       "      <td>EI</td>\n",
       "      <td>76</td>\n",
       "      <td>1.437760</td>\n",
       "    </tr>\n",
       "    <tr>\n",
       "      <th>12</th>\n",
       "      <td>SY</td>\n",
       "      <td>75</td>\n",
       "      <td>1.418842</td>\n",
       "    </tr>\n",
       "    <tr>\n",
       "      <th>13</th>\n",
       "      <td>GB</td>\n",
       "      <td>73</td>\n",
       "      <td>1.381006</td>\n",
       "    </tr>\n",
       "    <tr>\n",
       "      <th>14</th>\n",
       "      <td>RU</td>\n",
       "      <td>64</td>\n",
       "      <td>1.210745</td>\n",
       "    </tr>\n",
       "    <tr>\n",
       "      <th>15</th>\n",
       "      <td>IQ</td>\n",
       "      <td>61</td>\n",
       "      <td>1.153992</td>\n",
       "    </tr>\n",
       "    <tr>\n",
       "      <th>16</th>\n",
       "      <td>FR</td>\n",
       "      <td>61</td>\n",
       "      <td>1.153992</td>\n",
       "    </tr>\n",
       "    <tr>\n",
       "      <th>17</th>\n",
       "      <td>EG</td>\n",
       "      <td>53</td>\n",
       "      <td>1.002649</td>\n",
       "    </tr>\n",
       "    <tr>\n",
       "      <th>18</th>\n",
       "      <td>IL</td>\n",
       "      <td>45</td>\n",
       "      <td>0.851305</td>\n",
       "    </tr>\n",
       "    <tr>\n",
       "      <th>19</th>\n",
       "      <td>LY</td>\n",
       "      <td>44</td>\n",
       "      <td>0.832387</td>\n",
       "    </tr>\n",
       "  </tbody>\n",
       "</table>\n",
       "</div>"
      ],
      "text/plain": [
       "   ActionGeo_CountryCode  media_coverage  media_attention\n",
       "0                     US            1815        34.335982\n",
       "1                     AU             569        10.764283\n",
       "2                     PK             257         4.861899\n",
       "3                     IN             221         4.180855\n",
       "4                     NG             159         3.007946\n",
       "5                     CN             139         2.629588\n",
       "6                     PH             132         2.497162\n",
       "7                   None             127         2.402573\n",
       "8                     IT             123         2.326901\n",
       "9                     CA             116         2.194476\n",
       "10                    CU              86         1.626939\n",
       "11                    EI              76         1.437760\n",
       "12                    SY              75         1.418842\n",
       "13                    GB              73         1.381006\n",
       "14                    RU              64         1.210745\n",
       "15                    IQ              61         1.153992\n",
       "16                    FR              61         1.153992\n",
       "17                    EG              53         1.002649\n",
       "18                    IL              45         0.851305\n",
       "19                    LY              44         0.832387"
      ]
     },
     "execution_count": 40,
     "metadata": {},
     "output_type": "execute_result"
    }
   ],
   "source": [
    "media_countries.head(20)"
   ]
  },
  {
   "cell_type": "code",
   "execution_count": 41,
   "metadata": {},
   "outputs": [
    {
     "data": {
      "text/plain": [
       "Text(0.5,1,'Media coverage across countries')"
      ]
     },
     "execution_count": 41,
     "metadata": {},
     "output_type": "execute_result"
    },
    {
     "data": {
      "image/png": "[encoded data removed]",
      "text/plain": [
       "<Figure size 144x288 with 1 Axes>"
      ]
     },
     "metadata": {},
     "output_type": "display_data"
    }
   ],
   "source": [
    "# boxplot of the media coverage of each country\n",
    "fig = plt.subplots(figsize=(2,4))\n",
    "media_countries.boxplot(column='media_attention', grid=False)\n",
    "plt.title('Media coverage across countries')"
   ]
  },
  {
   "cell_type": "code",
   "execution_count": 42,
   "metadata": {},
   "outputs": [
    {
     "data": {
      "text/html": [
       "<div>\n",
       "<style scoped>\n",
       "    .dataframe tbody tr th:only-of-type {\n",
       "        vertical-align: middle;\n",
       "    }\n",
       "\n",
       "    .dataframe tbody tr th {\n",
       "        vertical-align: top;\n",
       "    }\n",
       "\n",
       "    .dataframe thead th {\n",
       "        text-align: right;\n",
       "    }\n",
       "</style>\n",
       "<table border=\"1\" class=\"dataframe\">\n",
       "  <thead>\n",
       "    <tr style=\"text-align: right;\">\n",
       "      <th></th>\n",
       "      <th>media_coverage</th>\n",
       "      <th>media_attention</th>\n",
       "    </tr>\n",
       "  </thead>\n",
       "  <tbody>\n",
       "    <tr>\n",
       "      <th>count</th>\n",
       "      <td>112.000000</td>\n",
       "      <td>112.000000</td>\n",
       "    </tr>\n",
       "    <tr>\n",
       "      <th>mean</th>\n",
       "      <td>47.196429</td>\n",
       "      <td>0.892857</td>\n",
       "    </tr>\n",
       "    <tr>\n",
       "      <th>std</th>\n",
       "      <td>181.466937</td>\n",
       "      <td>3.432973</td>\n",
       "    </tr>\n",
       "    <tr>\n",
       "      <th>min</th>\n",
       "      <td>1.000000</td>\n",
       "      <td>0.018918</td>\n",
       "    </tr>\n",
       "    <tr>\n",
       "      <th>25%</th>\n",
       "      <td>3.000000</td>\n",
       "      <td>0.056754</td>\n",
       "    </tr>\n",
       "    <tr>\n",
       "      <th>50%</th>\n",
       "      <td>9.000000</td>\n",
       "      <td>0.170261</td>\n",
       "    </tr>\n",
       "    <tr>\n",
       "      <th>75%</th>\n",
       "      <td>30.250000</td>\n",
       "      <td>0.572266</td>\n",
       "    </tr>\n",
       "    <tr>\n",
       "      <th>max</th>\n",
       "      <td>1815.000000</td>\n",
       "      <td>34.335982</td>\n",
       "    </tr>\n",
       "  </tbody>\n",
       "</table>\n",
       "</div>"
      ],
      "text/plain": [
       "       media_coverage  media_attention\n",
       "count      112.000000       112.000000\n",
       "mean        47.196429         0.892857\n",
       "std        181.466937         3.432973\n",
       "min          1.000000         0.018918\n",
       "25%          3.000000         0.056754\n",
       "50%          9.000000         0.170261\n",
       "75%         30.250000         0.572266\n",
       "max       1815.000000        34.335982"
      ]
     },
     "execution_count": 42,
     "metadata": {},
     "output_type": "execute_result"
    }
   ],
   "source": [
    "media_countries.describe()"
   ]
  },
  {
   "cell_type": "code",
   "execution_count": 43,
   "metadata": {},
   "outputs": [
    {
     "data": {
      "text/html": [
       "<div>\n",
       "<style scoped>\n",
       "    .dataframe tbody tr th:only-of-type {\n",
       "        vertical-align: middle;\n",
       "    }\n",
       "\n",
       "    .dataframe tbody tr th {\n",
       "        vertical-align: top;\n",
       "    }\n",
       "\n",
       "    .dataframe thead th {\n",
       "        text-align: right;\n",
       "    }\n",
       "</style>\n",
       "<table border=\"1\" class=\"dataframe\">\n",
       "  <thead>\n",
       "    <tr style=\"text-align: right;\">\n",
       "      <th></th>\n",
       "      <th>ActionGeo_CountryCode</th>\n",
       "      <th>media_coverage</th>\n",
       "      <th>media_attention</th>\n",
       "    </tr>\n",
       "  </thead>\n",
       "  <tbody>\n",
       "    <tr>\n",
       "      <th>0</th>\n",
       "      <td>US</td>\n",
       "      <td>1815</td>\n",
       "      <td>34.335982</td>\n",
       "    </tr>\n",
       "  </tbody>\n",
       "</table>\n",
       "</div>"
      ],
      "text/plain": [
       "  ActionGeo_CountryCode  media_coverage  media_attention\n",
       "0                    US            1815        34.335982"
      ]
     },
     "execution_count": 43,
     "metadata": {},
     "output_type": "execute_result"
    }
   ],
   "source": [
    "# outlier countries in terms of media coverage over the 2 years\n",
    "outliers = media_countries[(np.abs(media_countries.media_attention-media_countries.media_attention.mean()) > (3*media_countries.media_attention.std()))]\n",
    "outliers.head()"
   ]
  },
  {
   "cell_type": "markdown",
   "metadata": {},
   "source": [
    "We see that the median and the 3rd quartile for the distribution of the media coverage are extremely low, but the mean is higher. This shows that there are some countries which are highly represented in the news and which pull the mean to higher value. We see that a clear outlier in the data is the US. This might be because, as we wrote earlier, most of the news sources are american and will thus get an easier access to the news in the US and in the bordering countries than to the news in more distant countries. On top of having a high media coverage, the USA have a high mediatic attention, meaning that they have a high weigh on the international mediatic stage.\n",
    "\n",
    "We see that the countries which, according to the news, have the most events happening, are also the countries which get the most mediatic coverage and mediatic attention. For example United Kingdom (UK), Canada (CA), Australia (AS), China (CH), Pakistan (PK), Syria (SY) and Russsia (RS) are highly present in the medias. This is also consistent with the origins of the most prevalent media sources which are the UK, India, China and Australia. Indeed, these countries would naturally be more mentioned in the news if they have prominent news sources."
   ]
  },
  {
   "cell_type": "markdown",
   "metadata": {},
   "source": [
    "# Type of Event Biais"
   ]
  },
  {
   "cell_type": "markdown",
   "metadata": {},
   "source": [
    "### Goldstein Ratio\n",
    "\n",
    "One of the goal of our project is to assess the biais of media attention towards event type. Is their a direct correlation between the type of event and the mediatic attention is receives. \n",
    "A way to perform this is to use the Goldstein ratio which is a discrete numerical indicator between 10 and -10 that is directly link to the event type. The Goldstein ratio assigned to each event type is directly linked to potential impact of this event on the country's stability, the larger the index to more the event will act for the strenghting of the country. The lower the index values, the higher the chance that this event weaken's the country's stability.\n",
    "\n",
    "Before performing statistical correlation between both index, let's explore the distribution of the Goldstein Ratio accross events reported by news. \n",
    "\n",
    "Documentation on goldstein ratio and cameo event types : \n",
    "- https://www.gdeltproject.org/data/lookups/CAMEO.eventcodes.txt\n",
    "- https://www.gdeltproject.org/data/lookups/CAMEO.goldsteinscale.txt"
   ]
  },
  {
   "cell_type": "code",
   "execution_count": 44,
   "metadata": {},
   "outputs": [
    {
     "name": "stdout",
     "output_type": "stream",
     "text": [
      "+-------+------------------+\n",
      "|summary|    GoldsteinScale|\n",
      "+-------+------------------+\n",
      "|  count|              4186|\n",
      "|   mean|0.3542044941643836|\n",
      "| stddev|4.6663238791198385|\n",
      "|    min|             -10.0|\n",
      "|    max|              10.0|\n",
      "+-------+------------------+\n",
      "\n"
     ]
    }
   ],
   "source": [
    "#What is the distribution of the Goldstein Ratio accross events\n",
    "events.select('GoldsteinScale').describe().show()"
   ]
  },
  {
   "cell_type": "code",
   "execution_count": 45,
   "metadata": {},
   "outputs": [],
   "source": [
    "# Get the number of events reported for each Goldstein ratio value\n",
    "def get_activity_byGoldsetin(df_events):\n",
    "    \n",
    "    total_event = df_events.count()\n",
    "    udf = UserDefinedFunction(lambda x: x/total_event, DoubleType())\n",
    "    \n",
    "    goldstein = df_events.groupby('GoldsteinScale').agg(count('GLOBALEVENTID').alias('Number Events')).orderBy('GoldsteinScale')\n",
    "    goldstein = goldstein.select([udf(column).alias('Percentage of Events') if column == 'Number Events' else column for column in goldstein.columns])\n",
    "    \n",
    "    return goldstein\n",
    "\n",
    "goldstein = get_activity_byGoldsetin(events).toPandas()"
   ]
  },
  {
   "cell_type": "code",
   "execution_count": 46,
   "metadata": {},
   "outputs": [
    {
     "data": {
      "text/plain": [
       "<matplotlib.axes._subplots.AxesSubplot at 0x24175c27588>"
      ]
     },
     "execution_count": 46,
     "metadata": {},
     "output_type": "execute_result"
    },
    {
     "data": {
      "image/png": "[encoded data removed]",
      "text/plain": [
       "<Figure size 720x720 with 1 Axes>"
      ]
     },
     "metadata": {},
     "output_type": "display_data"
    }
   ],
   "source": [
    "goldstein.plot.bar(x='GoldsteinScale', y='Percentage of Events', figsize=(10, 10), colormap='Paired',title = 'Percentage of events by Goldstein scale value ')"
   ]
  },
  {
   "cell_type": "markdown",
   "metadata": {},
   "source": [
    "As seen above, the largest type Goldstein Scale displayed in the event population is 0.0. This means the largest category of event should theoretically have no on a country's stability. \n",
    "Let's know get insight on the distribution of Goldstein scale and therefore event type with mediatic coverage :"
   ]
  },
  {
   "cell_type": "code",
   "execution_count": 47,
   "metadata": {},
   "outputs": [],
   "source": [
    "# Get the media coverage and goldstein ratio for each event\n",
    "def get_cov_index(df_events,df_mentions,index):\n",
    "    \n",
    "    df_mentions = get_media_cov(df_mentions).alias('mentions')\n",
    "    df_events = df_events.select(['GLOBALEVENTID',index]).alias('events')\n",
    "    cov_index = df_events.join(df_mentions, df_events['GLOBALEVENTID'] == df_mentions['GLOBALEVENTID'],how = 'left').select(['events.'+index,'mentions.*']).sort('GoldsteinScale')\n",
    "\n",
    "    return cov_index\n",
    "\n",
    "goldstein2 = get_cov_index(events,mentions,'GoldsteinScale').toPandas()\n",
    "    "
   ]
  },
  {
   "cell_type": "code",
   "execution_count": 48,
   "metadata": {},
   "outputs": [
    {
     "data": {
      "text/plain": [
       "<matplotlib.axes._subplots.AxesSubplot at 0x24175c272b0>"
      ]
     },
     "execution_count": 48,
     "metadata": {},
     "output_type": "execute_result"
    },
    {
     "data": {
      "image/png": "[encoded data removed]",
      "text/plain": [
       "<Figure size 720x720 with 1 Axes>"
      ]
     },
     "metadata": {},
     "output_type": "display_data"
    }
   ],
   "source": [
    "# Probleme a ne pas faire tourner\n",
    "goldstein2.plot.bar(x='GoldsteinScale', y='Number Mentions', figsize=(10, 10), colormap='Paired')"
   ]
  },
  {
   "cell_type": "markdown",
   "metadata": {},
   "source": [
    "### QuadClass\n",
    "\n",
    "Another way to assess the biais of media coverage and attention depending on the event type is to use another way to classify events. The Quad Class features classifies event into four global catagories :\n",
    "- Verbal cooperation\n",
    "- Material cooperation\n",
    "- Verbal conflict\n",
    "- Material conflict\n",
    "\n",
    "In order to have an idea of the distribution of the quad class in our dataset, we represented the percentage of events in each class :"
   ]
  },
  {
   "cell_type": "code",
   "execution_count": 49,
   "metadata": {},
   "outputs": [
    {
     "name": "stdout",
     "output_type": "stream",
     "text": [
      "+-------+-----------------+\n",
      "|summary|        QuadClass|\n",
      "+-------+-----------------+\n",
      "|  count|             4186|\n",
      "|   mean|1.835164835164835|\n",
      "| stddev| 1.15078942685509|\n",
      "|    min|                1|\n",
      "|    max|                4|\n",
      "+-------+-----------------+\n",
      "\n"
     ]
    }
   ],
   "source": [
    "#What is the distribution of the Quad Class type accross events\n",
    "quad_val = ['Verbal Cooperation','Material Cooperation','Verbal Conflict','Material Conflict']\n",
    "events.select('QuadClass').describe().show()"
   ]
  },
  {
   "cell_type": "code",
   "execution_count": 50,
   "metadata": {},
   "outputs": [
    {
     "data": {
      "text/plain": [
       "<matplotlib.axes._subplots.AxesSubplot at 0x241754544e0>"
      ]
     },
     "execution_count": 50,
     "metadata": {},
     "output_type": "execute_result"
    },
    {
     "data": {
      "image/png": "[encoded data removed]",
      "text/plain": [
       "<Figure size 360x360 with 1 Axes>"
      ]
     },
     "metadata": {},
     "output_type": "display_data"
    }
   ],
   "source": [
    "def get_class(labels):\n",
    "    \n",
    "    return [x for i,x in enumerate(quad_val) if (i+1) in labels]\n",
    "\n",
    "def get_quad(df_events):\n",
    "    \n",
    "    return df_events.groupby('QuadClass').agg(count('GLOBALEVENTID').alias('Number Events')).orderBy('QuadClass')\n",
    "    \n",
    "def get_piechart_data(df,str1,str2):\n",
    "    \n",
    "    one_list = list(df.select(str1).toPandas()[str1])\n",
    "    two_list = list(df.select(str2).toPandas()[str2])\n",
    "\n",
    "    return pd.DataFrame({str1: one_list},index= two_list)\n",
    "\n",
    "quad = get_piechart_data(get_quad(events),'Number Events','QuadClass')\n",
    "quad.plot.pie(y='Number Events', autopct='%.2f',figsize=(5, 5),labels=get_class(list(quad.index)),title = 'Quad Class type distribution in events')"
   ]
  },
  {
   "cell_type": "markdown",
   "metadata": {},
   "source": [
    "As shown above a majority of reported event relate Verbal Cooperation, the distribution between all Quad Class types is therefore not homogene. Most activities related by the news are not conflictual. We see though that more than 25% of the events related by the news are conflictual. \n",
    "The media attention index considered later on in our analysis should therefore take into consideration the inhomogenity of the distribution. The media coverage and (resp. attention) should be a ratio between number of mentions (resp. normalised number of mentions) per QuadClass type and the total number of event per QuadClass type. "
   ]
  },
  {
   "cell_type": "code",
   "execution_count": 51,
   "metadata": {},
   "outputs": [
    {
     "name": "stdout",
     "output_type": "stream",
     "text": [
      "+---------+-------------+---------------+\n",
      "|QuadClass|GLOBALEVENTID|Number Mentions|\n",
      "+---------+-------------+---------------+\n",
      "|        1|    410479387|              1|\n",
      "|        1|    410479388|              1|\n",
      "|        1|    410479389|              1|\n",
      "|        1|    410479390|              1|\n",
      "|        1|    410479391|              1|\n",
      "|        1|    410479392|              1|\n",
      "|        1|    410479393|              1|\n",
      "|        1|    410479394|              1|\n",
      "|        1|    410479395|              1|\n",
      "|        1|    410479396|              1|\n",
      "|        4|    410479397|              1|\n",
      "|        3|    410479398|              2|\n",
      "|        3|    410479399|              2|\n",
      "|        1|    410479400|              2|\n",
      "|        1|    410479401|              2|\n",
      "|        2|    410479402|              1|\n",
      "|        2|    410479403|              1|\n",
      "|        1|    410479404|              1|\n",
      "|        2|    410479405|              1|\n",
      "|        1|    410479406|              1|\n",
      "+---------+-------------+---------------+\n",
      "only showing top 20 rows\n",
      "\n"
     ]
    }
   ],
   "source": [
    "def get_cov_quad(df_events,df_mentions):\n",
    "    \n",
    "    df_mentions = get_media_cov(df_mentions).alias('mentions')\n",
    "    df_events = df_events.alias('events')\n",
    "    cov_quad = df_events.join(df_mentions, df_events['GLOBALEVENTID'] == df_mentions['GLOBALEVENTID'],how = 'left').select(['events.QuadClass','mentions.*']).sort('GLOBALEVENTID')\n",
    "\n",
    "    return cov_quad\n",
    "\n",
    "med_cov_byQuadClass = get_cov_quad(events,mentions)\n",
    "med_cov_byQuadClass.show()"
   ]
  },
  {
   "cell_type": "code",
   "execution_count": 52,
   "metadata": {},
   "outputs": [
    {
     "data": {
      "text/plain": [
       "<matplotlib.axes._subplots.AxesSubplot at 0x241778206a0>"
      ]
     },
     "execution_count": 52,
     "metadata": {},
     "output_type": "execute_result"
    },
    {
     "data": {
      "image/png": "[encoded data removed]",
      "text/plain": [
       "<Figure size 360x360 with 1 Axes>"
      ]
     },
     "metadata": {},
     "output_type": "display_data"
    }
   ],
   "source": [
    "quad = med_cov_byQuadClass.groupby('QuadClass').agg(sum(med_cov_byQuadClass['Number Mentions']).alias('Number Mentions')).orderBy('QuadClass')\n",
    "\n",
    "quad = get_piechart_data(quad,'Number Mentions','QuadClass')\n",
    "quad.plot.pie(y='Number Mentions', autopct='%.2f',figsize=(5, 5),labels=get_class(list(quad.index)),title = 'Quad Class type distribution in relevant mentions')"
   ]
  },
  {
   "cell_type": "markdown",
   "metadata": {},
   "source": [
    "## Location and Type of Event Biais"
   ]
  },
  {
   "cell_type": "markdown",
   "metadata": {},
   "source": [
    "Next on our check list is to synthetize our findings, set up relevant visualisation and "
   ]
  },
  {
   "cell_type": "code",
   "execution_count": null,
   "metadata": {},
   "outputs": [],
   "source": []
  }
 ],
 "metadata": {
  "kernelspec": {
   "display_name": "Python [default]",
   "language": "python",
   "name": "python3"
  },
  "language_info": {
   "codemirror_mode": {
    "name": "ipython",
    "version": 3
   },
   "file_extension": ".py",
   "mimetype": "text/x-python",
   "name": "python",
   "nbconvert_exporter": "python",
   "pygments_lexer": "ipython3",
   "version": "3.6.5"
  }
 },
 "nbformat": 4,
 "nbformat_minor": 2
}
